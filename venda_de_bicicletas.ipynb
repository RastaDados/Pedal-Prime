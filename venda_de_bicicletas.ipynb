{
 "cells": [
  {
   "cell_type": "markdown",
   "id": "a6376732",
   "metadata": {},
   "source": [
    "## Imports e Configuração do Estilo\n",
    "\n",
    "<hr>\n",
    "<br>"
   ]
  },
  {
   "cell_type": "code",
   "execution_count": 3,
   "id": "1f36a502",
   "metadata": {},
   "outputs": [],
   "source": [
    "#Imports\n",
    "import pandas as pd\n",
    "import numpy as np\n",
    "import matplotlib.pyplot as plt\n",
    "import seaborn as sns\n",
    "import plotly.express as px\n",
    "import plotly.graph_objects as go\n",
    "from plotly.subplots import make_subplots\n",
    "from datetime import datetime\n",
    "import ipywidgets as widgets\n",
    "from IPython.display import display\n",
    "\n",
    "\n",
    "#Configuração do estilo \n",
    "plt.style.use('ggplot')\n",
    "sns.set_palette(\"pastel\")\n",
    "pd.set_option('display.max_columns', None)"
   ]
  },
  {
   "cell_type": "markdown",
   "id": "99491a5a",
   "metadata": {},
   "source": [
    "## Carregando o Dataset e Informações Iniciais\n",
    "\n",
    "<hr>\n",
    "<br>"
   ]
  },
  {
   "cell_type": "code",
   "execution_count": 4,
   "id": "370c0346",
   "metadata": {},
   "outputs": [],
   "source": [
    "#Carregando os dados do dataset .CSV\n",
    "df = pd.read_csv('dados/Sales.csv')\n",
    "\n",
    "\n",
    "#Visualizando as primeiras linhas\n",
    "#print(df.head())\n",
    "\n",
    "#Informações sobre o dataset\n",
    "#print(\"\\nInformações do dataset:\")\n",
    "#print(df.info())\n",
    "\n",
    "\n",
    "#Estatísticas descritivas\n",
    "#print(\"\\nEstatísticas descritivas:\")\n",
    "#print(df.describe(include='all'))\n"
   ]
  },
  {
   "cell_type": "markdown",
   "id": "b981750f",
   "metadata": {},
   "source": [
    "### **Limpeza e Tratamento dos Dados**\n",
    "\n",
    "<hr>\n",
    "<br>"
   ]
  },
  {
   "cell_type": "code",
   "execution_count": 13,
   "id": "db4b3d33",
   "metadata": {},
   "outputs": [
    {
     "name": "stdout",
     "output_type": "stream",
     "text": [
      "\n",
      "Valores nulos por coluna:\n",
      "Date                0\n",
      "Day                 0\n",
      "Month               0\n",
      "Year                0\n",
      "Customer_Age        0\n",
      "Age_Group           0\n",
      "Customer_Gender     0\n",
      "Country             0\n",
      "State               0\n",
      "Product_Category    0\n",
      "Sub_Category        0\n",
      "Product             0\n",
      "Order_Quantity      0\n",
      "Unit_Cost           0\n",
      "Unit_Price          0\n",
      "Profit              0\n",
      "Cost                0\n",
      "Revenue             0\n",
      "Day_of_week         0\n",
      "Profit_Margin       0\n",
      "dtype: int64\n",
      "\n",
      "Valores únicos em colunas categóricas:\n",
      "Country: ['Canada' 'Australia' 'United States' 'Germany' 'France' 'United Kingdom']\n",
      "Product_Category: ['Accessories' 'Clothing' 'Bikes']\n",
      "Sub_Category: ['Bike Racks' 'Bike Stands' 'Bottles and Cages' 'Caps' 'Cleaners'\n",
      " 'Fenders' 'Gloves' 'Helmets' 'Hydration Packs' 'Jerseys' 'Mountain Bikes'\n",
      " 'Road Bikes' 'Shorts' 'Socks' 'Tires and Tubes' 'Touring Bikes' 'Vests']\n",
      "Product: ['Hitch Rack - 4-Bike' 'All-Purpose Bike Stand' 'Mountain Bottle Cage'\n",
      " 'Water Bottle - 30 oz.' 'Road Bottle Cage' 'AWC Logo Cap'\n",
      " 'Bike Wash - Dissolver' 'Fender Set - Mountain' 'Half-Finger Gloves, L'\n",
      " 'Half-Finger Gloves, M' 'Half-Finger Gloves, S' 'Sport-100 Helmet, Black'\n",
      " 'Sport-100 Helmet, Red' 'Sport-100 Helmet, Blue'\n",
      " 'Hydration Pack - 70 oz.' 'Short-Sleeve Classic Jersey, XL'\n",
      " 'Short-Sleeve Classic Jersey, L' 'Short-Sleeve Classic Jersey, M'\n",
      " 'Short-Sleeve Classic Jersey, S' 'Long-Sleeve Logo Jersey, M'\n",
      " 'Long-Sleeve Logo Jersey, XL' 'Long-Sleeve Logo Jersey, L'\n",
      " 'Long-Sleeve Logo Jersey, S' 'Mountain-100 Silver, 38'\n",
      " 'Mountain-100 Silver, 44' 'Mountain-100 Black, 48'\n",
      " 'Mountain-100 Silver, 48' 'Mountain-100 Black, 38'\n",
      " 'Mountain-200 Silver, 38' 'Mountain-100 Black, 44'\n",
      " 'Mountain-100 Silver, 42' 'Mountain-200 Black, 46'\n",
      " 'Mountain-200 Silver, 42' 'Mountain-200 Silver, 46'\n",
      " 'Mountain-200 Black, 38' 'Mountain-100 Black, 42'\n",
      " 'Mountain-200 Black, 42' 'Mountain-400-W Silver, 46'\n",
      " 'Mountain-500 Silver, 40' 'Mountain-500 Silver, 44'\n",
      " 'Mountain-500 Black, 48' 'Mountain-500 Black, 40'\n",
      " 'Mountain-400-W Silver, 42' 'Mountain-500 Silver, 52'\n",
      " 'Mountain-500 Black, 52' 'Mountain-500 Silver, 42'\n",
      " 'Mountain-500 Black, 44' 'Mountain-500 Silver, 48'\n",
      " 'Mountain-400-W Silver, 38' 'Mountain-400-W Silver, 40'\n",
      " 'Mountain-500 Black, 42' 'Road-150 Red, 48' 'Road-150 Red, 62'\n",
      " 'Road-750 Black, 48' 'Road-750 Black, 58' 'Road-750 Black, 52'\n",
      " 'Road-150 Red, 52' 'Road-150 Red, 44' 'Road-150 Red, 56'\n",
      " 'Road-750 Black, 44' 'Road-350-W Yellow, 40' 'Road-350-W Yellow, 42'\n",
      " 'Road-250 Black, 44' 'Road-250 Black, 48' 'Road-350-W Yellow, 48'\n",
      " 'Road-550-W Yellow, 44' 'Road-550-W Yellow, 38' 'Road-250 Black, 52'\n",
      " 'Road-550-W Yellow, 48' 'Road-250 Red, 58' 'Road-250 Black, 58'\n",
      " 'Road-250 Red, 52' 'Road-250 Red, 48' 'Road-250 Red, 44'\n",
      " 'Road-550-W Yellow, 42' 'Road-550-W Yellow, 40' 'Road-650 Red, 48'\n",
      " 'Road-650 Red, 60' 'Road-650 Black, 48' 'Road-350-W Yellow, 44'\n",
      " 'Road-650 Red, 52' 'Road-650 Black, 44' 'Road-650 Red, 62'\n",
      " 'Road-650 Red, 58' 'Road-650 Black, 60' 'Road-650 Black, 58'\n",
      " 'Road-650 Black, 52' 'Road-650 Black, 62' 'Road-650 Red, 44'\n",
      " \"Women's Mountain Shorts, M\" \"Women's Mountain Shorts, S\"\n",
      " \"Women's Mountain Shorts, L\" 'Racing Socks, L' 'Racing Socks, M'\n",
      " 'Mountain Tire Tube' 'Touring Tire Tube' 'Patch Kit/8 Patches'\n",
      " 'HL Mountain Tire' 'LL Mountain Tire' 'Road Tire Tube' 'LL Road Tire'\n",
      " 'Touring Tire' 'ML Mountain Tire' 'HL Road Tire' 'ML Road Tire'\n",
      " 'Touring-1000 Yellow, 50' 'Touring-1000 Blue, 46'\n",
      " 'Touring-1000 Yellow, 60' 'Touring-1000 Blue, 50'\n",
      " 'Touring-3000 Yellow, 50' 'Touring-3000 Blue, 54' 'Touring-3000 Blue, 58'\n",
      " 'Touring-3000 Yellow, 44' 'Touring-3000 Yellow, 54'\n",
      " 'Touring-3000 Blue, 62' 'Touring-3000 Blue, 44' 'Touring-1000 Blue, 54'\n",
      " 'Touring-1000 Yellow, 46' 'Touring-1000 Blue, 60'\n",
      " 'Touring-3000 Yellow, 62' 'Touring-1000 Yellow, 54'\n",
      " 'Touring-2000 Blue, 54' 'Touring-3000 Blue, 50' 'Touring-3000 Yellow, 58'\n",
      " 'Touring-2000 Blue, 46' 'Touring-2000 Blue, 50' 'Touring-2000 Blue, 60'\n",
      " 'Classic Vest, L' 'Classic Vest, M' 'Classic Vest, S']\n"
     ]
    },
    {
     "data": {
      "text/plain": [
       "np.float64(5341159.991338304)"
      ]
     },
     "execution_count": 13,
     "metadata": {},
     "output_type": "execute_result"
    }
   ],
   "source": [
    "#Verificando se há valores nulos\n",
    "print(\"\\nValores nulos por coluna:\")\n",
    "print(df.isnull().sum())\n",
    "\n",
    "\n",
    "#Convertendo a coluna Date para o tipo correto dela (datetime)\n",
    "df['Date'] = pd.to_datetime(df['Date'])\n",
    "\n",
    "\n",
    "#Extraindo o ano, mês e dia da semana da coluna de Date\n",
    "df['Year'] = df['Date'].dt.year\n",
    "df['Month'] = df['Date'].dt.month_name()\n",
    "df['Day_of_week'] = df['Date'].dt.day_name()\n",
    "\n",
    "\n",
    "#Verificando a consistência dos dados categóricos\n",
    "print(\"\\nValores únicos em colunas categóricas:\")\n",
    "print(\"Country:\", df['Country'].unique())\n",
    "print(\"Product_Category:\", df['Product_Category'].unique())\n",
    "print(\"Sub_Category:\", df['Sub_Category'].unique())\n",
    "print(\"Product:\", df['Product'].unique())\n",
    "\n",
    "\n",
    "#Criando a coluna: margem de lucro\n",
    "df['Profit_Margin'] = (df['Profit'] / df['Revenue']) * 100\n",
    "\n",
    "\n",
    "#Verificando os outliers em valores numéricos\n",
    "numeric_cols = ['Customer_Age', 'Order_Quantity', 'Unit_Cost', 'Unit_Price', 'Profit', 'Cost', 'Revenue', 'Profit_Margin']\n",
    "df[numeric_cols].describe()\n",
    "\n",
    "df['Profit_Margin'].sum()"
   ]
  },
  {
   "cell_type": "markdown",
   "id": "8e0aadff",
   "metadata": {},
   "source": [
    "## Análise Exploratória\n",
    "<br>"
   ]
  },
  {
   "cell_type": "markdown",
   "id": "febf03b2",
   "metadata": {},
   "source": [
    "### **Análise Temporal**\n",
    "<hr>\n",
    "<br>"
   ]
  },
  {
   "cell_type": "code",
   "execution_count": 6,
   "id": "b488f30d",
   "metadata": {},
   "outputs": [
    {
     "data": {
      "application/vnd.plotly.v1+json": {
       "config": {
        "plotlyServerURL": "https://plot.ly"
       },
       "data": [
        {
         "fillpattern": {
          "shape": ""
         },
         "hovertemplate": "<b>%{x}</b><br>Valor: $%{y:,.0f}",
         "legendgroup": "2011",
         "line": {
          "color": "#636efa"
         },
         "marker": {
          "symbol": "circle"
         },
         "mode": "lines",
         "name": "2011",
         "orientation": "v",
         "showlegend": true,
         "stackgroup": "1",
         "type": "scatter",
         "x": [
          "January",
          "February",
          "March",
          "April",
          "May",
          "June",
          "July",
          "August",
          "September",
          "October",
          "November",
          "December"
         ],
         "xaxis": "x",
         "y": {
          "bdata": "eU0KAJ66CQClzwoAnqkKAEk1CwDaCgoAK3YNAKVtDQC6dgoAdaIKACLECAB6SBEA",
          "dtype": "i4"
         },
         "yaxis": "y"
        },
        {
         "fillpattern": {
          "shape": ""
         },
         "hovertemplate": "<b>%{x}</b><br>Valor: $%{y:,.0f}",
         "legendgroup": "2011",
         "line": {
          "color": "#636efa"
         },
         "marker": {
          "symbol": "circle"
         },
         "mode": "lines",
         "name": "2011",
         "orientation": "v",
         "showlegend": false,
         "stackgroup": "1",
         "type": "scatter",
         "x": [
          "January",
          "February",
          "March",
          "April",
          "May",
          "June",
          "July",
          "August",
          "September",
          "October",
          "November",
          "December"
         ],
         "xaxis": "x",
         "y": {
          "bdata": "cT8DACgpAwBkdAMAcWkDAMGUAwD1RwMAEGcEAIdcBAA0QgMAK2UDANPGAgAoogUA",
          "dtype": "i4"
         },
         "yaxis": "y"
        },
        {
         "fillpattern": {
          "shape": ""
         },
         "hovertemplate": "<b>%{x}</b><br>Valor: $%{y:,.0f}",
         "legendgroup": "2012",
         "line": {
          "color": "#EF553B"
         },
         "marker": {
          "symbol": "circle"
         },
         "mode": "lines",
         "name": "2012",
         "orientation": "v",
         "showlegend": true,
         "stackgroup": "1",
         "type": "scatter",
         "x": [
          "January",
          "February",
          "March",
          "April",
          "May",
          "June",
          "July",
          "August",
          "September",
          "October",
          "November",
          "December"
         ],
         "xaxis": "x2",
         "y": {
          "bdata": "zz8KAGHOCQDYTQsAfScLANyuCwCfjgoANCwNABAnDgALtgoAbhsLAJ0tCQBV8BAA",
          "dtype": "i4"
         },
         "yaxis": "y2"
        },
        {
         "fillpattern": {
          "shape": ""
         },
         "hovertemplate": "<b>%{x}</b><br>Valor: $%{y:,.0f}",
         "legendgroup": "2012",
         "line": {
          "color": "#EF553B"
         },
         "marker": {
          "symbol": "circle"
         },
         "mode": "lines",
         "name": "2012",
         "orientation": "v",
         "showlegend": false,
         "stackgroup": "1",
         "type": "scatter",
         "x": [
          "January",
          "February",
          "March",
          "April",
          "May",
          "June",
          "July",
          "August",
          "September",
          "October",
          "November",
          "December"
         ],
         "xaxis": "x2",
         "y": {
          "bdata": "UTkDANkwAwBMlgMA25wDAAi+AwDzcgMAsj4EAECWBABJXgMAnJoDABvtAgD7gQUA",
          "dtype": "i4"
         },
         "yaxis": "y2"
        },
        {
         "fillpattern": {
          "shape": ""
         },
         "hovertemplate": "<b>%{x}</b><br>Valor: $%{y:,.0f}",
         "legendgroup": "2013",
         "line": {
          "color": "#00cc96"
         },
         "marker": {
          "symbol": "circle"
         },
         "mode": "lines",
         "name": "2013",
         "orientation": "v",
         "showlegend": true,
         "stackgroup": "1",
         "type": "scatter",
         "x": [
          "January",
          "February",
          "March",
          "April",
          "May",
          "June",
          "July",
          "August",
          "September",
          "October",
          "November",
          "December"
         ],
         "xaxis": "x3",
         "y": {
          "bdata": "d6MGAB1oBwD8HwcA6UYHAHn/CABTJggAd8cSAP/mGgCEWR4AKCUfAA0PIgDxti0A",
          "dtype": "i4"
         },
         "yaxis": "y3"
        },
        {
         "fillpattern": {
          "shape": ""
         },
         "hovertemplate": "<b>%{x}</b><br>Valor: $%{y:,.0f}",
         "legendgroup": "2013",
         "line": {
          "color": "#00cc96"
         },
         "marker": {
          "symbol": "circle"
         },
         "mode": "lines",
         "name": "2013",
         "orientation": "v",
         "showlegend": false,
         "stackgroup": "1",
         "type": "scatter",
         "x": [
          "January",
          "February",
          "March",
          "April",
          "May",
          "June",
          "July",
          "August",
          "September",
          "October",
          "November",
          "December"
         ],
         "xaxis": "x3",
         "y": {
          "bdata": "ri8CAMNwAgBTXAIAy1gCAAf/AgDnqwIAC8oGAH52CwAppgwADtkMAFTeDQCXTxIA",
          "dtype": "i4"
         },
         "yaxis": "y3"
        },
        {
         "fillpattern": {
          "shape": ""
         },
         "hovertemplate": "<b>%{x}</b><br>Valor: $%{y:,.0f}",
         "legendgroup": "2014",
         "line": {
          "color": "#ab63fa"
         },
         "marker": {
          "symbol": "circle"
         },
         "mode": "lines",
         "name": "2014",
         "orientation": "v",
         "showlegend": true,
         "stackgroup": "1",
         "type": "scatter",
         "x": [
          "January",
          "February",
          "March",
          "April",
          "May",
          "June",
          "July"
         ],
         "xaxis": "x4",
         "y": {
          "bdata": "5ZMeAI+vHQA0KyAAqqMhAGN7JwBIgyoAF+MHAA==",
          "dtype": "i4"
         },
         "yaxis": "y4"
        },
        {
         "fillpattern": {
          "shape": ""
         },
         "hovertemplate": "<b>%{x}</b><br>Valor: $%{y:,.0f}",
         "legendgroup": "2014",
         "line": {
          "color": "#ab63fa"
         },
         "marker": {
          "symbol": "circle"
         },
         "mode": "lines",
         "name": "2014",
         "orientation": "v",
         "showlegend": false,
         "stackgroup": "1",
         "type": "scatter",
         "x": [
          "January",
          "February",
          "March",
          "April",
          "May",
          "June",
          "July"
         ],
         "xaxis": "x4",
         "y": {
          "bdata": "DpYMAJk4DABdUg0A1/gNAL5EEAC0FhEASgUEAA==",
          "dtype": "i4"
         },
         "yaxis": "y4"
        },
        {
         "fillpattern": {
          "shape": ""
         },
         "hovertemplate": "<b>%{x}</b><br>Valor: $%{y:,.0f}",
         "legendgroup": "2015",
         "line": {
          "color": "#FFA15A"
         },
         "marker": {
          "symbol": "circle"
         },
         "mode": "lines",
         "name": "2015",
         "orientation": "v",
         "showlegend": true,
         "stackgroup": "1",
         "type": "scatter",
         "x": [
          "January",
          "February",
          "March",
          "April",
          "May",
          "June",
          "July",
          "August",
          "September",
          "October",
          "November",
          "December"
         ],
         "xaxis": "x5",
         "y": {
          "bdata": "Oi0KAE5dCgAY5QoAkDULAEOoDQAwAAwAjl8aAKWpIACUnSUAPJcmAP5GKwATuDoA",
          "dtype": "i4"
         },
         "yaxis": "y5"
        },
        {
         "fillpattern": {
          "shape": ""
         },
         "hovertemplate": "<b>%{x}</b><br>Valor: $%{y:,.0f}",
         "legendgroup": "2015",
         "line": {
          "color": "#FFA15A"
         },
         "marker": {
          "symbol": "circle"
         },
         "mode": "lines",
         "name": "2015",
         "orientation": "v",
         "showlegend": false,
         "stackgroup": "1",
         "type": "scatter",
         "x": [
          "January",
          "February",
          "March",
          "April",
          "May",
          "June",
          "July",
          "August",
          "September",
          "October",
          "November",
          "December"
         ],
         "xaxis": "x5",
         "y": {
          "bdata": "OlgDAMNdAwA2mgMAFKADAE6JBAAw8wMAoE4JAPdfDQAXDQ8Aq0QPAN/fEAB2kxYA",
          "dtype": "i4"
         },
         "yaxis": "y5"
        },
        {
         "fillpattern": {
          "shape": ""
         },
         "hovertemplate": "<b>%{x}</b><br>Valor: $%{y:,.0f}",
         "legendgroup": "2016",
         "line": {
          "color": "#19d3f3"
         },
         "marker": {
          "symbol": "circle"
         },
         "mode": "lines",
         "name": "2016",
         "orientation": "v",
         "showlegend": true,
         "stackgroup": "1",
         "type": "scatter",
         "x": [
          "January",
          "February",
          "March",
          "April",
          "May",
          "June",
          "July"
         ],
         "xaxis": "x6",
         "y": {
          "bdata": "6fQmAJ5LJQAXzicAABEqAFfPMQD8uDYA+KAHAA==",
          "dtype": "i4"
         },
         "yaxis": "y6"
        },
        {
         "fillpattern": {
          "shape": ""
         },
         "hovertemplate": "<b>%{x}</b><br>Valor: $%{y:,.0f}",
         "legendgroup": "2016",
         "line": {
          "color": "#19d3f3"
         },
         "marker": {
          "symbol": "circle"
         },
         "mode": "lines",
         "name": "2016",
         "orientation": "v",
         "showlegend": false,
         "stackgroup": "1",
         "type": "scatter",
         "x": [
          "January",
          "February",
          "March",
          "April",
          "May",
          "June",
          "July"
         ],
         "xaxis": "x6",
         "y": {
          "bdata": "4V0PAPK3DgD00A8ATb4QAP2jEwBsMBUAr+IDAA==",
          "dtype": "i4"
         },
         "yaxis": "y6"
        }
       ],
       "layout": {
        "annotations": [
         {
          "font": {},
          "showarrow": false,
          "text": "Year=2011",
          "x": 0.075,
          "xanchor": "center",
          "xref": "paper",
          "y": 1,
          "yanchor": "bottom",
          "yref": "paper"
         },
         {
          "font": {},
          "showarrow": false,
          "text": "Year=2012",
          "x": 0.24499999999999997,
          "xanchor": "center",
          "xref": "paper",
          "y": 1,
          "yanchor": "bottom",
          "yref": "paper"
         },
         {
          "font": {},
          "showarrow": false,
          "text": "Year=2013",
          "x": 0.415,
          "xanchor": "center",
          "xref": "paper",
          "y": 1,
          "yanchor": "bottom",
          "yref": "paper"
         },
         {
          "font": {},
          "showarrow": false,
          "text": "Year=2014",
          "x": 0.585,
          "xanchor": "center",
          "xref": "paper",
          "y": 1,
          "yanchor": "bottom",
          "yref": "paper"
         },
         {
          "font": {},
          "showarrow": false,
          "text": "Year=2015",
          "x": 0.7549999999999999,
          "xanchor": "center",
          "xref": "paper",
          "y": 1,
          "yanchor": "bottom",
          "yref": "paper"
         },
         {
          "font": {},
          "showarrow": false,
          "text": "Year=2016",
          "x": 0.925,
          "xanchor": "center",
          "xref": "paper",
          "y": 1,
          "yanchor": "bottom",
          "yref": "paper"
         }
        ],
        "height": 500,
        "hovermode": "x unified",
        "legend": {
         "title": {
          "text": "Métrica/Ano"
         },
         "tracegroupgap": 0
        },
        "template": {
         "data": {
          "bar": [
           {
            "error_x": {
             "color": "#2a3f5f"
            },
            "error_y": {
             "color": "#2a3f5f"
            },
            "marker": {
             "line": {
              "color": "white",
              "width": 0.5
             },
             "pattern": {
              "fillmode": "overlay",
              "size": 10,
              "solidity": 0.2
             }
            },
            "type": "bar"
           }
          ],
          "barpolar": [
           {
            "marker": {
             "line": {
              "color": "white",
              "width": 0.5
             },
             "pattern": {
              "fillmode": "overlay",
              "size": 10,
              "solidity": 0.2
             }
            },
            "type": "barpolar"
           }
          ],
          "carpet": [
           {
            "aaxis": {
             "endlinecolor": "#2a3f5f",
             "gridcolor": "#C8D4E3",
             "linecolor": "#C8D4E3",
             "minorgridcolor": "#C8D4E3",
             "startlinecolor": "#2a3f5f"
            },
            "baxis": {
             "endlinecolor": "#2a3f5f",
             "gridcolor": "#C8D4E3",
             "linecolor": "#C8D4E3",
             "minorgridcolor": "#C8D4E3",
             "startlinecolor": "#2a3f5f"
            },
            "type": "carpet"
           }
          ],
          "choropleth": [
           {
            "colorbar": {
             "outlinewidth": 0,
             "ticks": ""
            },
            "type": "choropleth"
           }
          ],
          "contour": [
           {
            "colorbar": {
             "outlinewidth": 0,
             "ticks": ""
            },
            "colorscale": [
             [
              0,
              "#0d0887"
             ],
             [
              0.1111111111111111,
              "#46039f"
             ],
             [
              0.2222222222222222,
              "#7201a8"
             ],
             [
              0.3333333333333333,
              "#9c179e"
             ],
             [
              0.4444444444444444,
              "#bd3786"
             ],
             [
              0.5555555555555556,
              "#d8576b"
             ],
             [
              0.6666666666666666,
              "#ed7953"
             ],
             [
              0.7777777777777778,
              "#fb9f3a"
             ],
             [
              0.8888888888888888,
              "#fdca26"
             ],
             [
              1,
              "#f0f921"
             ]
            ],
            "type": "contour"
           }
          ],
          "contourcarpet": [
           {
            "colorbar": {
             "outlinewidth": 0,
             "ticks": ""
            },
            "type": "contourcarpet"
           }
          ],
          "heatmap": [
           {
            "colorbar": {
             "outlinewidth": 0,
             "ticks": ""
            },
            "colorscale": [
             [
              0,
              "#0d0887"
             ],
             [
              0.1111111111111111,
              "#46039f"
             ],
             [
              0.2222222222222222,
              "#7201a8"
             ],
             [
              0.3333333333333333,
              "#9c179e"
             ],
             [
              0.4444444444444444,
              "#bd3786"
             ],
             [
              0.5555555555555556,
              "#d8576b"
             ],
             [
              0.6666666666666666,
              "#ed7953"
             ],
             [
              0.7777777777777778,
              "#fb9f3a"
             ],
             [
              0.8888888888888888,
              "#fdca26"
             ],
             [
              1,
              "#f0f921"
             ]
            ],
            "type": "heatmap"
           }
          ],
          "histogram": [
           {
            "marker": {
             "pattern": {
              "fillmode": "overlay",
              "size": 10,
              "solidity": 0.2
             }
            },
            "type": "histogram"
           }
          ],
          "histogram2d": [
           {
            "colorbar": {
             "outlinewidth": 0,
             "ticks": ""
            },
            "colorscale": [
             [
              0,
              "#0d0887"
             ],
             [
              0.1111111111111111,
              "#46039f"
             ],
             [
              0.2222222222222222,
              "#7201a8"
             ],
             [
              0.3333333333333333,
              "#9c179e"
             ],
             [
              0.4444444444444444,
              "#bd3786"
             ],
             [
              0.5555555555555556,
              "#d8576b"
             ],
             [
              0.6666666666666666,
              "#ed7953"
             ],
             [
              0.7777777777777778,
              "#fb9f3a"
             ],
             [
              0.8888888888888888,
              "#fdca26"
             ],
             [
              1,
              "#f0f921"
             ]
            ],
            "type": "histogram2d"
           }
          ],
          "histogram2dcontour": [
           {
            "colorbar": {
             "outlinewidth": 0,
             "ticks": ""
            },
            "colorscale": [
             [
              0,
              "#0d0887"
             ],
             [
              0.1111111111111111,
              "#46039f"
             ],
             [
              0.2222222222222222,
              "#7201a8"
             ],
             [
              0.3333333333333333,
              "#9c179e"
             ],
             [
              0.4444444444444444,
              "#bd3786"
             ],
             [
              0.5555555555555556,
              "#d8576b"
             ],
             [
              0.6666666666666666,
              "#ed7953"
             ],
             [
              0.7777777777777778,
              "#fb9f3a"
             ],
             [
              0.8888888888888888,
              "#fdca26"
             ],
             [
              1,
              "#f0f921"
             ]
            ],
            "type": "histogram2dcontour"
           }
          ],
          "mesh3d": [
           {
            "colorbar": {
             "outlinewidth": 0,
             "ticks": ""
            },
            "type": "mesh3d"
           }
          ],
          "parcoords": [
           {
            "line": {
             "colorbar": {
              "outlinewidth": 0,
              "ticks": ""
             }
            },
            "type": "parcoords"
           }
          ],
          "pie": [
           {
            "automargin": true,
            "type": "pie"
           }
          ],
          "scatter": [
           {
            "fillpattern": {
             "fillmode": "overlay",
             "size": 10,
             "solidity": 0.2
            },
            "type": "scatter"
           }
          ],
          "scatter3d": [
           {
            "line": {
             "colorbar": {
              "outlinewidth": 0,
              "ticks": ""
             }
            },
            "marker": {
             "colorbar": {
              "outlinewidth": 0,
              "ticks": ""
             }
            },
            "type": "scatter3d"
           }
          ],
          "scattercarpet": [
           {
            "marker": {
             "colorbar": {
              "outlinewidth": 0,
              "ticks": ""
             }
            },
            "type": "scattercarpet"
           }
          ],
          "scattergeo": [
           {
            "marker": {
             "colorbar": {
              "outlinewidth": 0,
              "ticks": ""
             }
            },
            "type": "scattergeo"
           }
          ],
          "scattergl": [
           {
            "marker": {
             "colorbar": {
              "outlinewidth": 0,
              "ticks": ""
             }
            },
            "type": "scattergl"
           }
          ],
          "scattermap": [
           {
            "marker": {
             "colorbar": {
              "outlinewidth": 0,
              "ticks": ""
             }
            },
            "type": "scattermap"
           }
          ],
          "scattermapbox": [
           {
            "marker": {
             "colorbar": {
              "outlinewidth": 0,
              "ticks": ""
             }
            },
            "type": "scattermapbox"
           }
          ],
          "scatterpolar": [
           {
            "marker": {
             "colorbar": {
              "outlinewidth": 0,
              "ticks": ""
             }
            },
            "type": "scatterpolar"
           }
          ],
          "scatterpolargl": [
           {
            "marker": {
             "colorbar": {
              "outlinewidth": 0,
              "ticks": ""
             }
            },
            "type": "scatterpolargl"
           }
          ],
          "scatterternary": [
           {
            "marker": {
             "colorbar": {
              "outlinewidth": 0,
              "ticks": ""
             }
            },
            "type": "scatterternary"
           }
          ],
          "surface": [
           {
            "colorbar": {
             "outlinewidth": 0,
             "ticks": ""
            },
            "colorscale": [
             [
              0,
              "#0d0887"
             ],
             [
              0.1111111111111111,
              "#46039f"
             ],
             [
              0.2222222222222222,
              "#7201a8"
             ],
             [
              0.3333333333333333,
              "#9c179e"
             ],
             [
              0.4444444444444444,
              "#bd3786"
             ],
             [
              0.5555555555555556,
              "#d8576b"
             ],
             [
              0.6666666666666666,
              "#ed7953"
             ],
             [
              0.7777777777777778,
              "#fb9f3a"
             ],
             [
              0.8888888888888888,
              "#fdca26"
             ],
             [
              1,
              "#f0f921"
             ]
            ],
            "type": "surface"
           }
          ],
          "table": [
           {
            "cells": {
             "fill": {
              "color": "#EBF0F8"
             },
             "line": {
              "color": "white"
             }
            },
            "header": {
             "fill": {
              "color": "#C8D4E3"
             },
             "line": {
              "color": "white"
             }
            },
            "type": "table"
           }
          ]
         },
         "layout": {
          "annotationdefaults": {
           "arrowcolor": "#2a3f5f",
           "arrowhead": 0,
           "arrowwidth": 1
          },
          "autotypenumbers": "strict",
          "coloraxis": {
           "colorbar": {
            "outlinewidth": 0,
            "ticks": ""
           }
          },
          "colorscale": {
           "diverging": [
            [
             0,
             "#8e0152"
            ],
            [
             0.1,
             "#c51b7d"
            ],
            [
             0.2,
             "#de77ae"
            ],
            [
             0.3,
             "#f1b6da"
            ],
            [
             0.4,
             "#fde0ef"
            ],
            [
             0.5,
             "#f7f7f7"
            ],
            [
             0.6,
             "#e6f5d0"
            ],
            [
             0.7,
             "#b8e186"
            ],
            [
             0.8,
             "#7fbc41"
            ],
            [
             0.9,
             "#4d9221"
            ],
            [
             1,
             "#276419"
            ]
           ],
           "sequential": [
            [
             0,
             "#0d0887"
            ],
            [
             0.1111111111111111,
             "#46039f"
            ],
            [
             0.2222222222222222,
             "#7201a8"
            ],
            [
             0.3333333333333333,
             "#9c179e"
            ],
            [
             0.4444444444444444,
             "#bd3786"
            ],
            [
             0.5555555555555556,
             "#d8576b"
            ],
            [
             0.6666666666666666,
             "#ed7953"
            ],
            [
             0.7777777777777778,
             "#fb9f3a"
            ],
            [
             0.8888888888888888,
             "#fdca26"
            ],
            [
             1,
             "#f0f921"
            ]
           ],
           "sequentialminus": [
            [
             0,
             "#0d0887"
            ],
            [
             0.1111111111111111,
             "#46039f"
            ],
            [
             0.2222222222222222,
             "#7201a8"
            ],
            [
             0.3333333333333333,
             "#9c179e"
            ],
            [
             0.4444444444444444,
             "#bd3786"
            ],
            [
             0.5555555555555556,
             "#d8576b"
            ],
            [
             0.6666666666666666,
             "#ed7953"
            ],
            [
             0.7777777777777778,
             "#fb9f3a"
            ],
            [
             0.8888888888888888,
             "#fdca26"
            ],
            [
             1,
             "#f0f921"
            ]
           ]
          },
          "colorway": [
           "#636efa",
           "#EF553B",
           "#00cc96",
           "#ab63fa",
           "#FFA15A",
           "#19d3f3",
           "#FF6692",
           "#B6E880",
           "#FF97FF",
           "#FECB52"
          ],
          "font": {
           "color": "#2a3f5f"
          },
          "geo": {
           "bgcolor": "white",
           "lakecolor": "white",
           "landcolor": "white",
           "showlakes": true,
           "showland": true,
           "subunitcolor": "#C8D4E3"
          },
          "hoverlabel": {
           "align": "left"
          },
          "hovermode": "closest",
          "mapbox": {
           "style": "light"
          },
          "paper_bgcolor": "white",
          "plot_bgcolor": "white",
          "polar": {
           "angularaxis": {
            "gridcolor": "#EBF0F8",
            "linecolor": "#EBF0F8",
            "ticks": ""
           },
           "bgcolor": "white",
           "radialaxis": {
            "gridcolor": "#EBF0F8",
            "linecolor": "#EBF0F8",
            "ticks": ""
           }
          },
          "scene": {
           "xaxis": {
            "backgroundcolor": "white",
            "gridcolor": "#DFE8F3",
            "gridwidth": 2,
            "linecolor": "#EBF0F8",
            "showbackground": true,
            "ticks": "",
            "zerolinecolor": "#EBF0F8"
           },
           "yaxis": {
            "backgroundcolor": "white",
            "gridcolor": "#DFE8F3",
            "gridwidth": 2,
            "linecolor": "#EBF0F8",
            "showbackground": true,
            "ticks": "",
            "zerolinecolor": "#EBF0F8"
           },
           "zaxis": {
            "backgroundcolor": "white",
            "gridcolor": "#DFE8F3",
            "gridwidth": 2,
            "linecolor": "#EBF0F8",
            "showbackground": true,
            "ticks": "",
            "zerolinecolor": "#EBF0F8"
           }
          },
          "shapedefaults": {
           "line": {
            "color": "#2a3f5f"
           }
          },
          "ternary": {
           "aaxis": {
            "gridcolor": "#DFE8F3",
            "linecolor": "#A2B1C6",
            "ticks": ""
           },
           "baxis": {
            "gridcolor": "#DFE8F3",
            "linecolor": "#A2B1C6",
            "ticks": ""
           },
           "bgcolor": "white",
           "caxis": {
            "gridcolor": "#DFE8F3",
            "linecolor": "#A2B1C6",
            "ticks": ""
           }
          },
          "title": {
           "x": 0.05
          },
          "xaxis": {
           "automargin": true,
           "gridcolor": "#EBF0F8",
           "linecolor": "#EBF0F8",
           "ticks": "",
           "title": {
            "standoff": 15
           },
           "zerolinecolor": "#EBF0F8",
           "zerolinewidth": 2
          },
          "yaxis": {
           "automargin": true,
           "gridcolor": "#EBF0F8",
           "linecolor": "#EBF0F8",
           "ticks": "",
           "title": {
            "standoff": 15
           },
           "zerolinecolor": "#EBF0F8",
           "zerolinewidth": 2
          }
         }
        },
        "title": {
         "text": "Evolução Mensal de Receita e Lucro por Ano"
        },
        "xaxis": {
         "anchor": "y",
         "domain": [
          0,
          0.15
         ],
         "title": {
          "text": "Month"
         }
        },
        "xaxis2": {
         "anchor": "y2",
         "domain": [
          0.16999999999999998,
          0.31999999999999995
         ],
         "matches": "x",
         "title": {
          "text": "Month"
         }
        },
        "xaxis3": {
         "anchor": "y3",
         "domain": [
          0.33999999999999997,
          0.49
         ],
         "matches": "x",
         "title": {
          "text": "Month"
         }
        },
        "xaxis4": {
         "anchor": "y4",
         "domain": [
          0.51,
          0.66
         ],
         "matches": "x",
         "title": {
          "text": "Month"
         }
        },
        "xaxis5": {
         "anchor": "y5",
         "domain": [
          0.6799999999999999,
          0.83
         ],
         "matches": "x",
         "title": {
          "text": "Month"
         }
        },
        "xaxis6": {
         "anchor": "y6",
         "domain": [
          0.85,
          1
         ],
         "matches": "x",
         "title": {
          "text": "Month"
         }
        },
        "yaxis": {
         "anchor": "x",
         "domain": [
          0,
          1
         ],
         "title": {
          "text": "Valor ($)"
         }
        },
        "yaxis2": {
         "anchor": "x2",
         "domain": [
          0,
          1
         ],
         "matches": "y",
         "showticklabels": false
        },
        "yaxis3": {
         "anchor": "x3",
         "domain": [
          0,
          1
         ],
         "matches": "y",
         "showticklabels": false
        },
        "yaxis4": {
         "anchor": "x4",
         "domain": [
          0,
          1
         ],
         "matches": "y",
         "showticklabels": false
        },
        "yaxis5": {
         "anchor": "x5",
         "domain": [
          0,
          1
         ],
         "matches": "y",
         "showticklabels": false
        },
        "yaxis6": {
         "anchor": "x6",
         "domain": [
          0,
          1
         ],
         "matches": "y",
         "showticklabels": false
        }
       }
      }
     },
     "metadata": {},
     "output_type": "display_data"
    }
   ],
   "source": [
    "#Preparando os dados para a análise exploratória\n",
    "monthly_data = df.groupby(['Year', 'Month']).agg({'Revenue':'sum', 'Profit':'sum'}).reset_index()\n",
    "\n",
    "\n",
    "#Ordenando os meses na ordem correta\n",
    "month_order = ['January', 'February', 'March', 'April', 'May', 'June', \n",
    "               'July', 'August', 'September', 'October', 'November', 'December']\n",
    "monthly_data['Month'] = pd.Categorical(monthly_data['Month'], categories=month_order, ordered=True)\n",
    "monthly_data = monthly_data.sort_values(['Year', 'Month'])\n",
    "\n",
    "\n",
    "#Criando o gráfico de área\n",
    "fig = px.area(monthly_data, \n",
    "              x='Month', \n",
    "              y=['Revenue', 'Profit'],\n",
    "              color='Year',\n",
    "              facet_col='Year',\n",
    "              title='Evolução Mensal de Receita e Lucro por Ano',\n",
    "              labels={'value': 'Valor ($)', 'variable': 'Métrica'},\n",
    "              template='plotly_white')\n",
    "\n",
    "\n",
    "\n",
    "#Melhorando a formatação do gráfico\n",
    "fig.update_layout(\n",
    "    hovermode='x unified',\n",
    "    yaxis_title='Valor ($)',\n",
    "    legend_title='Métrica/Ano',\n",
    "    height=500\n",
    ")\n",
    "\n",
    "\n",
    "#Mostrando os valores no hover de forma mais clara\n",
    "fig.update_traces(\n",
    "    hovertemplate='<b>%{x}</b><br>Valor: $%{y:,.0f}'\n",
    ")\n",
    "\n",
    "fig.show()\n"
   ]
  },
  {
   "cell_type": "markdown",
   "id": "61479799",
   "metadata": {},
   "source": [
    "### **Análise por Demografia**\n",
    "\n",
    "<hr>\n",
    "<br>"
   ]
  },
  {
   "cell_type": "code",
   "execution_count": 7,
   "id": "b5b17ab5",
   "metadata": {},
   "outputs": [
    {
     "data": {
      "application/vnd.plotly.v1+json": {
       "config": {
        "plotlyServerURL": "https://plot.ly"
       },
       "data": [
        {
         "customdata": {
          "bdata": "xZp2AL8dBADueh4A2xoCALgyEwDEBQEA",
          "dtype": "i4",
          "shape": "3, 2"
         },
         "hovertemplate": "Country=United States<br>State=%{x}<br>Revenue=%{y}<br>Profit=%{customdata[0]}<br>Order_Quantity=%{customdata[1]}<extra></extra>",
         "legendgroup": "United States",
         "marker": {
          "color": "#636efa",
          "pattern": {
           "shape": ""
          }
         },
         "name": "United States",
         "orientation": "v",
         "showlegend": true,
         "textposition": "auto",
         "type": "bar",
         "x": [
          "California",
          "Washington",
          "Oregon"
         ],
         "xaxis": "x",
         "y": {
          "bdata": "rKkNAQbeZgAqpjQA",
          "dtype": "i4"
         },
         "yaxis": "y"
        },
        {
         "customdata": {
          "bdata": "nVlDACJmAgA=",
          "dtype": "i4",
          "shape": "1, 2"
         },
         "hovertemplate": "Country=United Kingdom<br>State=%{x}<br>Revenue=%{y}<br>Profit=%{customdata[0]}<br>Order_Quantity=%{customdata[1]}<extra></extra>",
         "legendgroup": "United Kingdom",
         "marker": {
          "color": "#EF553B",
          "pattern": {
           "shape": ""
          }
         },
         "name": "United Kingdom",
         "orientation": "v",
         "showlegend": true,
         "textposition": "auto",
         "type": "bar",
         "x": [
          "England"
         ],
         "xaxis": "x",
         "y": {
          "bdata": "tHKiAA==",
          "dtype": "i4"
         },
         "yaxis": "y"
        },
        {
         "customdata": {
          "bdata": "9NAvANzEAQDWtBgA+OAAADrKFQC3AgEAh3sGAK89AAA=",
          "dtype": "i4",
          "shape": "4, 2"
         },
         "hovertemplate": "Country=Australia<br>State=%{x}<br>Revenue=%{y}<br>Profit=%{customdata[0]}<br>Order_Quantity=%{customdata[1]}<extra></extra>",
         "legendgroup": "Australia",
         "marker": {
          "color": "#00cc96",
          "pattern": {
           "shape": ""
          }
         },
         "name": "Australia",
         "orientation": "v",
         "showlegend": true,
         "textposition": "auto",
         "type": "bar",
         "x": [
          "New South Wales",
          "Queensland",
          "Victoria",
          "South Australia"
         ],
         "xaxis": "x",
         "y": {
          "bdata": "J2+MABtOTQB3IU0AGlIVAA==",
          "dtype": "i4"
         },
         "yaxis": "y"
        },
        {
         "customdata": {
          "bdata": "JFs4AETsAgA=",
          "dtype": "i4",
          "shape": "1, 2"
         },
         "hovertemplate": "Country=Canada<br>State=%{x}<br>Revenue=%{y}<br>Profit=%{customdata[0]}<br>Order_Quantity=%{customdata[1]}<extra></extra>",
         "legendgroup": "Canada",
         "marker": {
          "color": "#ab63fa",
          "pattern": {
           "shape": ""
          }
         },
         "name": "Canada",
         "orientation": "v",
         "showlegend": true,
         "textposition": "auto",
         "type": "bar",
         "x": [
          "British Columbia"
         ],
         "xaxis": "x",
         "y": {
          "bdata": "AjV4AA==",
          "dtype": "i4"
         },
         "yaxis": "y"
        },
        {
         "customdata": {
          "bdata": "WmkMAA5nAAC2rQkAbHkAAE3iCQDjdAAAM2gJAMtPAACzzAgAAT0AAA==",
          "dtype": "i4",
          "shape": "5, 2"
         },
         "hovertemplate": "Country=Germany<br>State=%{x}<br>Revenue=%{y}<br>Profit=%{customdata[0]}<br>Order_Quantity=%{customdata[1]}<extra></extra>",
         "legendgroup": "Germany",
         "marker": {
          "color": "#FFA15A",
          "pattern": {
           "shape": ""
          }
         },
         "name": "Germany",
         "orientation": "v",
         "showlegend": true,
         "textposition": "auto",
         "type": "bar",
         "x": [
          "Hessen",
          "Saarland",
          "Nordrhein-Westfalen",
          "Hamburg",
          "Bayern"
         ],
         "xaxis": "x",
         "y": {
          "bdata": "L6MfAOn3HgBkihsA3ckXACF6FAA=",
          "dtype": "i4"
         },
         "yaxis": "y"
        },
        {
         "customdata": {
          "bdata": "v8wHAClrAACJGgcA00oAAI9tBQBYTgAAeAIGAGwuAABpjgUA6DEAAHG4AgCcKgAA",
          "dtype": "i4",
          "shape": "6, 2"
         },
         "hovertemplate": "Country=France<br>State=%{x}<br>Revenue=%{y}<br>Profit=%{customdata[0]}<br>Order_Quantity=%{customdata[1]}<extra></extra>",
         "legendgroup": "France",
         "marker": {
          "color": "#19d3f3",
          "pattern": {
           "shape": ""
          }
         },
         "name": "France",
         "orientation": "v",
         "showlegend": true,
         "textposition": "auto",
         "type": "bar",
         "x": [
          "Seine (Paris)",
          "Nord",
          "Seine Saint Denis",
          "Essonne",
          "Hauts de Seine",
          "Yveline"
         ],
         "xaxis": "x",
         "y": {
          "bdata": "DxMZAGw2FAByRBEA3NoOALRMDgDAiwoA",
          "dtype": "i4"
         },
         "yaxis": "y"
        }
       ],
       "layout": {
        "barmode": "relative",
        "legend": {
         "title": {
          "text": "Country"
         },
         "tracegroupgap": 0
        },
        "template": {
         "data": {
          "bar": [
           {
            "error_x": {
             "color": "#2a3f5f"
            },
            "error_y": {
             "color": "#2a3f5f"
            },
            "marker": {
             "line": {
              "color": "white",
              "width": 0.5
             },
             "pattern": {
              "fillmode": "overlay",
              "size": 10,
              "solidity": 0.2
             }
            },
            "type": "bar"
           }
          ],
          "barpolar": [
           {
            "marker": {
             "line": {
              "color": "white",
              "width": 0.5
             },
             "pattern": {
              "fillmode": "overlay",
              "size": 10,
              "solidity": 0.2
             }
            },
            "type": "barpolar"
           }
          ],
          "carpet": [
           {
            "aaxis": {
             "endlinecolor": "#2a3f5f",
             "gridcolor": "#C8D4E3",
             "linecolor": "#C8D4E3",
             "minorgridcolor": "#C8D4E3",
             "startlinecolor": "#2a3f5f"
            },
            "baxis": {
             "endlinecolor": "#2a3f5f",
             "gridcolor": "#C8D4E3",
             "linecolor": "#C8D4E3",
             "minorgridcolor": "#C8D4E3",
             "startlinecolor": "#2a3f5f"
            },
            "type": "carpet"
           }
          ],
          "choropleth": [
           {
            "colorbar": {
             "outlinewidth": 0,
             "ticks": ""
            },
            "type": "choropleth"
           }
          ],
          "contour": [
           {
            "colorbar": {
             "outlinewidth": 0,
             "ticks": ""
            },
            "colorscale": [
             [
              0,
              "#0d0887"
             ],
             [
              0.1111111111111111,
              "#46039f"
             ],
             [
              0.2222222222222222,
              "#7201a8"
             ],
             [
              0.3333333333333333,
              "#9c179e"
             ],
             [
              0.4444444444444444,
              "#bd3786"
             ],
             [
              0.5555555555555556,
              "#d8576b"
             ],
             [
              0.6666666666666666,
              "#ed7953"
             ],
             [
              0.7777777777777778,
              "#fb9f3a"
             ],
             [
              0.8888888888888888,
              "#fdca26"
             ],
             [
              1,
              "#f0f921"
             ]
            ],
            "type": "contour"
           }
          ],
          "contourcarpet": [
           {
            "colorbar": {
             "outlinewidth": 0,
             "ticks": ""
            },
            "type": "contourcarpet"
           }
          ],
          "heatmap": [
           {
            "colorbar": {
             "outlinewidth": 0,
             "ticks": ""
            },
            "colorscale": [
             [
              0,
              "#0d0887"
             ],
             [
              0.1111111111111111,
              "#46039f"
             ],
             [
              0.2222222222222222,
              "#7201a8"
             ],
             [
              0.3333333333333333,
              "#9c179e"
             ],
             [
              0.4444444444444444,
              "#bd3786"
             ],
             [
              0.5555555555555556,
              "#d8576b"
             ],
             [
              0.6666666666666666,
              "#ed7953"
             ],
             [
              0.7777777777777778,
              "#fb9f3a"
             ],
             [
              0.8888888888888888,
              "#fdca26"
             ],
             [
              1,
              "#f0f921"
             ]
            ],
            "type": "heatmap"
           }
          ],
          "histogram": [
           {
            "marker": {
             "pattern": {
              "fillmode": "overlay",
              "size": 10,
              "solidity": 0.2
             }
            },
            "type": "histogram"
           }
          ],
          "histogram2d": [
           {
            "colorbar": {
             "outlinewidth": 0,
             "ticks": ""
            },
            "colorscale": [
             [
              0,
              "#0d0887"
             ],
             [
              0.1111111111111111,
              "#46039f"
             ],
             [
              0.2222222222222222,
              "#7201a8"
             ],
             [
              0.3333333333333333,
              "#9c179e"
             ],
             [
              0.4444444444444444,
              "#bd3786"
             ],
             [
              0.5555555555555556,
              "#d8576b"
             ],
             [
              0.6666666666666666,
              "#ed7953"
             ],
             [
              0.7777777777777778,
              "#fb9f3a"
             ],
             [
              0.8888888888888888,
              "#fdca26"
             ],
             [
              1,
              "#f0f921"
             ]
            ],
            "type": "histogram2d"
           }
          ],
          "histogram2dcontour": [
           {
            "colorbar": {
             "outlinewidth": 0,
             "ticks": ""
            },
            "colorscale": [
             [
              0,
              "#0d0887"
             ],
             [
              0.1111111111111111,
              "#46039f"
             ],
             [
              0.2222222222222222,
              "#7201a8"
             ],
             [
              0.3333333333333333,
              "#9c179e"
             ],
             [
              0.4444444444444444,
              "#bd3786"
             ],
             [
              0.5555555555555556,
              "#d8576b"
             ],
             [
              0.6666666666666666,
              "#ed7953"
             ],
             [
              0.7777777777777778,
              "#fb9f3a"
             ],
             [
              0.8888888888888888,
              "#fdca26"
             ],
             [
              1,
              "#f0f921"
             ]
            ],
            "type": "histogram2dcontour"
           }
          ],
          "mesh3d": [
           {
            "colorbar": {
             "outlinewidth": 0,
             "ticks": ""
            },
            "type": "mesh3d"
           }
          ],
          "parcoords": [
           {
            "line": {
             "colorbar": {
              "outlinewidth": 0,
              "ticks": ""
             }
            },
            "type": "parcoords"
           }
          ],
          "pie": [
           {
            "automargin": true,
            "type": "pie"
           }
          ],
          "scatter": [
           {
            "fillpattern": {
             "fillmode": "overlay",
             "size": 10,
             "solidity": 0.2
            },
            "type": "scatter"
           }
          ],
          "scatter3d": [
           {
            "line": {
             "colorbar": {
              "outlinewidth": 0,
              "ticks": ""
             }
            },
            "marker": {
             "colorbar": {
              "outlinewidth": 0,
              "ticks": ""
             }
            },
            "type": "scatter3d"
           }
          ],
          "scattercarpet": [
           {
            "marker": {
             "colorbar": {
              "outlinewidth": 0,
              "ticks": ""
             }
            },
            "type": "scattercarpet"
           }
          ],
          "scattergeo": [
           {
            "marker": {
             "colorbar": {
              "outlinewidth": 0,
              "ticks": ""
             }
            },
            "type": "scattergeo"
           }
          ],
          "scattergl": [
           {
            "marker": {
             "colorbar": {
              "outlinewidth": 0,
              "ticks": ""
             }
            },
            "type": "scattergl"
           }
          ],
          "scattermap": [
           {
            "marker": {
             "colorbar": {
              "outlinewidth": 0,
              "ticks": ""
             }
            },
            "type": "scattermap"
           }
          ],
          "scattermapbox": [
           {
            "marker": {
             "colorbar": {
              "outlinewidth": 0,
              "ticks": ""
             }
            },
            "type": "scattermapbox"
           }
          ],
          "scatterpolar": [
           {
            "marker": {
             "colorbar": {
              "outlinewidth": 0,
              "ticks": ""
             }
            },
            "type": "scatterpolar"
           }
          ],
          "scatterpolargl": [
           {
            "marker": {
             "colorbar": {
              "outlinewidth": 0,
              "ticks": ""
             }
            },
            "type": "scatterpolargl"
           }
          ],
          "scatterternary": [
           {
            "marker": {
             "colorbar": {
              "outlinewidth": 0,
              "ticks": ""
             }
            },
            "type": "scatterternary"
           }
          ],
          "surface": [
           {
            "colorbar": {
             "outlinewidth": 0,
             "ticks": ""
            },
            "colorscale": [
             [
              0,
              "#0d0887"
             ],
             [
              0.1111111111111111,
              "#46039f"
             ],
             [
              0.2222222222222222,
              "#7201a8"
             ],
             [
              0.3333333333333333,
              "#9c179e"
             ],
             [
              0.4444444444444444,
              "#bd3786"
             ],
             [
              0.5555555555555556,
              "#d8576b"
             ],
             [
              0.6666666666666666,
              "#ed7953"
             ],
             [
              0.7777777777777778,
              "#fb9f3a"
             ],
             [
              0.8888888888888888,
              "#fdca26"
             ],
             [
              1,
              "#f0f921"
             ]
            ],
            "type": "surface"
           }
          ],
          "table": [
           {
            "cells": {
             "fill": {
              "color": "#EBF0F8"
             },
             "line": {
              "color": "white"
             }
            },
            "header": {
             "fill": {
              "color": "#C8D4E3"
             },
             "line": {
              "color": "white"
             }
            },
            "type": "table"
           }
          ]
         },
         "layout": {
          "annotationdefaults": {
           "arrowcolor": "#2a3f5f",
           "arrowhead": 0,
           "arrowwidth": 1
          },
          "autotypenumbers": "strict",
          "coloraxis": {
           "colorbar": {
            "outlinewidth": 0,
            "ticks": ""
           }
          },
          "colorscale": {
           "diverging": [
            [
             0,
             "#8e0152"
            ],
            [
             0.1,
             "#c51b7d"
            ],
            [
             0.2,
             "#de77ae"
            ],
            [
             0.3,
             "#f1b6da"
            ],
            [
             0.4,
             "#fde0ef"
            ],
            [
             0.5,
             "#f7f7f7"
            ],
            [
             0.6,
             "#e6f5d0"
            ],
            [
             0.7,
             "#b8e186"
            ],
            [
             0.8,
             "#7fbc41"
            ],
            [
             0.9,
             "#4d9221"
            ],
            [
             1,
             "#276419"
            ]
           ],
           "sequential": [
            [
             0,
             "#0d0887"
            ],
            [
             0.1111111111111111,
             "#46039f"
            ],
            [
             0.2222222222222222,
             "#7201a8"
            ],
            [
             0.3333333333333333,
             "#9c179e"
            ],
            [
             0.4444444444444444,
             "#bd3786"
            ],
            [
             0.5555555555555556,
             "#d8576b"
            ],
            [
             0.6666666666666666,
             "#ed7953"
            ],
            [
             0.7777777777777778,
             "#fb9f3a"
            ],
            [
             0.8888888888888888,
             "#fdca26"
            ],
            [
             1,
             "#f0f921"
            ]
           ],
           "sequentialminus": [
            [
             0,
             "#0d0887"
            ],
            [
             0.1111111111111111,
             "#46039f"
            ],
            [
             0.2222222222222222,
             "#7201a8"
            ],
            [
             0.3333333333333333,
             "#9c179e"
            ],
            [
             0.4444444444444444,
             "#bd3786"
            ],
            [
             0.5555555555555556,
             "#d8576b"
            ],
            [
             0.6666666666666666,
             "#ed7953"
            ],
            [
             0.7777777777777778,
             "#fb9f3a"
            ],
            [
             0.8888888888888888,
             "#fdca26"
            ],
            [
             1,
             "#f0f921"
            ]
           ]
          },
          "colorway": [
           "#636efa",
           "#EF553B",
           "#00cc96",
           "#ab63fa",
           "#FFA15A",
           "#19d3f3",
           "#FF6692",
           "#B6E880",
           "#FF97FF",
           "#FECB52"
          ],
          "font": {
           "color": "#2a3f5f"
          },
          "geo": {
           "bgcolor": "white",
           "lakecolor": "white",
           "landcolor": "white",
           "showlakes": true,
           "showland": true,
           "subunitcolor": "#C8D4E3"
          },
          "hoverlabel": {
           "align": "left"
          },
          "hovermode": "closest",
          "mapbox": {
           "style": "light"
          },
          "paper_bgcolor": "white",
          "plot_bgcolor": "white",
          "polar": {
           "angularaxis": {
            "gridcolor": "#EBF0F8",
            "linecolor": "#EBF0F8",
            "ticks": ""
           },
           "bgcolor": "white",
           "radialaxis": {
            "gridcolor": "#EBF0F8",
            "linecolor": "#EBF0F8",
            "ticks": ""
           }
          },
          "scene": {
           "xaxis": {
            "backgroundcolor": "white",
            "gridcolor": "#DFE8F3",
            "gridwidth": 2,
            "linecolor": "#EBF0F8",
            "showbackground": true,
            "ticks": "",
            "zerolinecolor": "#EBF0F8"
           },
           "yaxis": {
            "backgroundcolor": "white",
            "gridcolor": "#DFE8F3",
            "gridwidth": 2,
            "linecolor": "#EBF0F8",
            "showbackground": true,
            "ticks": "",
            "zerolinecolor": "#EBF0F8"
           },
           "zaxis": {
            "backgroundcolor": "white",
            "gridcolor": "#DFE8F3",
            "gridwidth": 2,
            "linecolor": "#EBF0F8",
            "showbackground": true,
            "ticks": "",
            "zerolinecolor": "#EBF0F8"
           }
          },
          "shapedefaults": {
           "line": {
            "color": "#2a3f5f"
           }
          },
          "ternary": {
           "aaxis": {
            "gridcolor": "#DFE8F3",
            "linecolor": "#A2B1C6",
            "ticks": ""
           },
           "baxis": {
            "gridcolor": "#DFE8F3",
            "linecolor": "#A2B1C6",
            "ticks": ""
           },
           "bgcolor": "white",
           "caxis": {
            "gridcolor": "#DFE8F3",
            "linecolor": "#A2B1C6",
            "ticks": ""
           }
          },
          "title": {
           "x": 0.05
          },
          "xaxis": {
           "automargin": true,
           "gridcolor": "#EBF0F8",
           "linecolor": "#EBF0F8",
           "ticks": "",
           "title": {
            "standoff": 15
           },
           "zerolinecolor": "#EBF0F8",
           "zerolinewidth": 2
          },
          "yaxis": {
           "automargin": true,
           "gridcolor": "#EBF0F8",
           "linecolor": "#EBF0F8",
           "ticks": "",
           "title": {
            "standoff": 15
           },
           "zerolinecolor": "#EBF0F8",
           "zerolinewidth": 2
          }
         }
        },
        "title": {
         "text": "Top 20 Estados por Receita"
        },
        "xaxis": {
         "anchor": "y",
         "categoryorder": "total descending",
         "domain": [
          0,
          1
         ],
         "title": {
          "text": "State"
         }
        },
        "yaxis": {
         "anchor": "x",
         "domain": [
          0,
          1
         ],
         "title": {
          "text": "Revenue"
         }
        }
       }
      }
     },
     "metadata": {},
     "output_type": "display_data"
    }
   ],
   "source": [
    "#Quantidade de Vendas por país e estado\n",
    "sales_by_location = df.groupby(['Country', 'State']).agg({\n",
    "    'Revenue': 'sum',\n",
    "    'Profit': 'sum',\n",
    "    'Order_Quantity': 'sum'\n",
    "}).reset_index().sort_values('Revenue', ascending=False)\n",
    "\n",
    "\n",
    "\n",
    "#Criando o Gráfico de barras \n",
    "fig = px.bar(sales_by_location.head(20), x='State', y='Revenue',\n",
    "             color='Country', title='Top 20 Estados por Receita',\n",
    "             hover_data=['Profit', 'Order_Quantity'],\n",
    "             template='plotly_white')\n",
    "fig.update_layout(xaxis={'categoryorder':'total descending'})\n",
    "fig.show()"
   ]
  },
  {
   "cell_type": "markdown",
   "id": "f2104ff3",
   "metadata": {},
   "source": [
    "### **Análise de Produtos**\n",
    "\n",
    "<hr>\n",
    "<br>"
   ]
  },
  {
   "cell_type": "code",
   "execution_count": 8,
   "id": "e8282728",
   "metadata": {},
   "outputs": [
    {
     "data": {
      "application/vnd.plotly.v1+json": {
       "config": {
        "plotlyServerURL": "https://plot.ly"
       },
       "data": [
        {
         "branchvalues": "total",
         "customdata": [
          [
           "1191",
           "1243755",
           31.906411533173962
          ],
          [
           "1642",
           "1310464",
           38.58097389124572
          ],
          [
           "980",
           "1053260",
           32.42005249549916
          ],
          [
           "990",
           "1009515",
           31.308640158286295
          ],
          [
           "1461",
           "1231452",
           39.618696048800366
          ],
          [
           "1477",
           "1165560",
           38.08305574447854
          ],
          [
           "952",
           "898517",
           29.711373484105646
          ],
          [
           "1349",
           "1080672",
           38.81870253166897
          ],
          [
           "1282",
           "1036542",
           38.780554778689144
          ],
          [
           "1149",
           "921512",
           38.45743728844805
          ],
          [
           "63663",
           "1191402",
           58.656624288737376
          ],
          [
           "62048",
           "1140355",
           58.246943942785364
          ],
          [
           "613",
           "594085",
           30.12205777584814
          ],
          [
           "55895",
           "1048446",
           58.74951317765901
          ],
          [
           "754",
           "451215",
           27.58432938465972
          ],
          [
           "588",
           "365398",
           28.081335996905807
          ],
          [
           "62081",
           "748702",
           59.75562829220156
          ],
          [
           "543",
           "345755",
           28.783028947276858
          ],
          [
           "551",
           "319059",
           26.80414589481653
          ],
          [
           "748",
           "347111",
           29.6924745040652
          ],
          [
           "716",
           "316842",
           28.632921566826024
          ],
          [
           "462",
           "313600",
           29.96450946792131
          ],
          [
           "19857",
           "571693",
           57.4702765941928
          ],
          [
           "425",
           "251230",
           27.321931138734953
          ],
          [
           "27562",
           "531672",
           59.45651260374845
          ],
          [
           "573",
           "229979",
           26.502418089761555
          ],
          [
           "384",
           "263346",
           31.091824341329826
          ],
          [
           "380",
           "261451",
           31.417285917119333
          ],
          [
           "164082",
           "417835",
           55.7474214148426
          ],
          [
           "342",
           "234810",
           30.94609395151396
          ],
          [
           "723",
           "217139",
           29.124926213779677
          ],
          [
           "328",
           "204862",
           29.152648410835454
          ],
          [
           "690",
           "197140",
           27.99007365725475
          ],
          [
           "10317",
           "394913",
           58.98564710083492
          ],
          [
           "304",
           "210256",
           31.405798432276136
          ],
          [
           "13979",
           "112342",
           17.00034091015261
          ],
          [
           "1287",
           "185216",
           29.054433446635876
          ],
          [
           "613",
           "175491",
           28.084763979035326
          ],
          [
           "283",
           "186065",
           30.190246986680066
          ],
          [
           "408",
           "159464",
           26.278256622648062
          ],
          [
           "277",
           "189035",
           30.98262219702663
          ],
          [
           "9231",
           "353370",
           59.215726439978155
          ],
          [
           "267",
           "187171",
           31.43294157364487
          ],
          [
           "20992",
           "343149",
           59.43332088648778
          ],
          [
           "253",
           "186194",
           32.16585093653319
          ],
          [
           "577",
           "158109",
           27.28357526674225
          ],
          [
           "570",
           "162125",
           27.95303423088363
          ],
          [
           "11544",
           "74389",
           12.432085206921013
          ],
          [
           "67264",
           "77913",
           13.49077685908935
          ],
          [
           "247",
           "155548",
           28.59362876499007
          ],
          [
           "11345",
           "92940",
           17.173309718549486
          ],
          [
           "4741",
           "304455",
           58.35189526345973
          ],
          [
           "11549",
           "76767",
           14.10943160418884
          ],
          [
           "10435",
           "64909",
           12.527413756331397
          ],
          [
           "26584",
           "282514",
           56.79387262843414
          ],
          [
           "10896",
           "79630",
           15.5526918632129
          ],
          [
           "1012",
           "144463",
           28.50166162081627
          ],
          [
           "7620",
           "286059",
           58.74126214516715
          ],
          [
           "20865",
           "282216",
           59.7988819153617
          ],
          [
           "102792",
           "264355",
           55.90052043192749
          ],
          [
           "15610",
           "268136",
           58.563325229230074
          ],
          [
           "9244",
           "58878",
           12.755404760734203
          ],
          [
           "881",
           "127057",
           28.946003695857346
          ],
          [
           "9133",
           "43713",
           10.058661626704128
          ],
          [
           "120",
           "128682",
           35.7494756328086
          ],
          [
           "2400",
           "201064",
           58.312382825978496
          ],
          [
           "37480",
           "189009",
           55.342354850786016
          ],
          [
           "470",
           "133592",
           39.94582488269768
          ],
          [
           "14794",
           "191760",
           58.66546968394622
          ],
          [
           "40164",
           "203754",
           62.52705534697778
          ],
          [
           "108",
           "99241",
           31.876781596329202
          ],
          [
           "434",
           "118698",
           38.98721076005814
          ],
          [
           "265",
           "96320",
           31.964110962587544
          ],
          [
           "4943",
           "170581",
           58.58996895195451
          ],
          [
           "13153",
           "166721",
           58.071413437085745
          ],
          [
           "12744",
           "169975",
           59.381848409184556
          ],
          [
           "157583",
           "126280",
           44.223970441414515
          ],
          [
           "4876",
           "161740",
           58.03220081617299
          ],
          [
           "94",
           "96925",
           35.09836863817677
          ],
          [
           "94",
           "95376",
           34.70095684937165
          ],
          [
           "4651",
           "157319",
           58.05084003977786
          ],
          [
           "378",
           "106174",
           39.84966023909175
          ],
          [
           "10221",
           "151310",
           57.18445898048424
          ],
          [
           "240",
           "80502",
           30.265929070496597
          ],
          [
           "11994",
           "152834",
           58.34336595227656
          ],
          [
           "56802",
           "143924",
           55.67423227352145
          ],
          [
           "495",
           "67310",
           27.97658171513406
          ],
          [
           "83",
           "71314",
           30.834555977172133
          ],
          [
           "62296",
           "164182",
           72.21378380696264
          ],
          [
           "75",
           "76478",
           34.29057836485389
          ],
          [
           "77",
           "67282",
           31.13708848206191
          ],
          [
           "194",
           "64173",
           29.96585476157148
          ],
          [
           "73",
           "71911",
           33.709517659525844
          ],
          [
           "299",
           "57202",
           27.73692164003336
          ],
          [
           "27522",
           "115796",
           58.12615608386045
          ],
          [
           "257",
           "65218",
           33.43285581321787
          ],
          [
           "269",
           "77140",
           40.01358548995152
          ],
          [
           "165",
           "56568",
           30.768719682728456
          ],
          [
           "174",
           "42121",
           32.59076014256254
          ],
          [
           "179",
           "38156",
           29.3649140143844
          ],
          [
           "231",
           "47790",
           40.89908988147582
          ],
          [
           "171",
           "30907",
           26.706692034770352
          ],
          [
           "56",
           "29151",
           25.99449170735948
          ],
          [
           "168",
           "33650",
           30.41974136646182
          ],
          [
           "150",
           "32052",
           30.011918110176392
          ],
          [
           "203",
           "42423",
           39.98207920089918
          ],
          [
           "147",
           "32283",
           30.410383098222404
          ],
          [
           "153",
           "32462",
           31.013563178818853
          ],
          [
           "196",
           "38759",
           39.89937314029608
          ],
          [
           "144",
           "29642",
           30.517539269675545
          ],
          [
           "148",
           "27735",
           29.032914672095554
          ],
          [
           "181",
           "36716",
           39.494035777036956
          ],
          [
           "131",
           "23541",
           26.264185644340163
          ],
          [
           "120",
           "27655",
           30.75578325812098
          ],
          [
           "126",
           "24089",
           28.429001506714815
          ],
          [
           "131",
           "23452",
           27.354351235300534
          ],
          [
           "125",
           "26012",
           30.970855155659436
          ],
          [
           "123",
           "21729",
           26.828488044270074
          ],
          [
           "9529",
           "49084",
           62.9261571389468
          ],
          [
           "146",
           "25824",
           36.939957669745574
          ],
          [
           "103",
           "20997",
           30.599601478309985
          ],
          [
           "8107",
           "42268",
           63.08292869441734
          ],
          [
           "94",
           "19634",
           31.100307674630315
          ],
          [
           "83",
           "18371",
           31.802652699345646
          ],
          [
           "108",
           "23527",
           41.90753965330281
          ],
          [
           "104",
           "19074",
           37.52210312579158
          ],
          [
           "96",
           "20070",
           40.04617286917424
          ],
          [
           "70",
           "13424",
           29.12736134869991
          ],
          [
           "52",
           "9345",
           25.428616068273918
          ],
          [
           "52",
           "9778",
           37.71504626514618
          ],
          [
           "40",
           "7487",
           37.594296760382704
          ],
          [
           "42",
           "1819",
           62.49866986646237
          ],
          [
           "57",
           "975",
           56.81822814119104
          ],
          [
           "12",
           "871",
           61.72925079862575
          ],
          [
           "37",
           "339",
           53.18373916203728
          ],
          [
           "52",
           "95",
           20.70135746606335
          ],
          [
           "57",
           "212",
           56.21337050160373
          ],
          [
           "4",
           "8",
           50
          ],
          [
           "(?)",
           "(?)",
           29.670242330063008
          ],
          [
           "(?)",
           "(?)",
           38.29761909331958
          ],
          [
           "(?)",
           "(?)",
           58.54640920407903
          ],
          [
           "(?)",
           "(?)",
           59.75453922678079
          ],
          [
           "(?)",
           "(?)",
           57.46914684018752
          ],
          [
           "(?)",
           "(?)",
           58.11243518632358
          ],
          [
           "(?)",
           "(?)",
           30.7656578813513
          ],
          [
           "(?)",
           "(?)",
           57.20996640820039
          ],
          [
           "(?)",
           "(?)",
           58.996101165264484
          ],
          [
           "(?)",
           "(?)",
           14.135727762171198
          ],
          [
           "(?)",
           "(?)",
           13.491841312538117
          ],
          [
           "4741",
           "304455",
           58.35189526345973
          ],
          [
           "(?)",
           "(?)",
           58.32639488936412
          ],
          [
           "(?)",
           "(?)",
           58.37072816707127
          ],
          [
           "(?)",
           "(?)",
           54.42182075918844
          ],
          [
           "(?)",
           "(?)",
           58.03975684753447
          ],
          [
           "(?)",
           "(?)",
           62.98863443173563
          ],
          [
           "(?)",
           "(?)",
           32.74932459370577
          ],
          [
           "(?)",
           "(?)",
           58.29839980633017
          ],
          [
           "(?)",
           "(?)",
           33.453470114250756
          ]
         ],
         "domain": {
          "x": [
           0,
           1
          ],
          "y": [
           0,
           1
          ]
         },
         "hovertemplate": "labels=%{label}<br>Revenue=%{value}<br>parent=%{parent}<br>id=%{id}<br>Order_Quantity=%{customdata[0]}<br>Profit=%{customdata[1]}<br>Profit_Margin=%{color}<extra></extra>",
         "ids": [
          "Bikes/Road Bikes/Road-150 Red, 62",
          "Bikes/Mountain Bikes/Mountain-200 Black, 38",
          "Bikes/Road Bikes/Road-150 Red, 52",
          "Bikes/Road Bikes/Road-150 Red, 56",
          "Bikes/Mountain Bikes/Mountain-200 Silver, 42",
          "Bikes/Mountain Bikes/Mountain-200 Silver, 38",
          "Bikes/Road Bikes/Road-150 Red, 48",
          "Bikes/Mountain Bikes/Mountain-200 Black, 46",
          "Bikes/Mountain Bikes/Mountain-200 Black, 42",
          "Bikes/Mountain Bikes/Mountain-200 Silver, 46",
          "Accessories/Helmets/Sport-100 Helmet, Red",
          "Accessories/Helmets/Sport-100 Helmet, Black",
          "Bikes/Road Bikes/Road-150 Red, 44",
          "Accessories/Helmets/Sport-100 Helmet, Blue",
          "Bikes/Road Bikes/Road-250 Black, 52",
          "Bikes/Road Bikes/Road-250 Red, 58",
          "Accessories/Fenders/Fender Set - Mountain",
          "Bikes/Road Bikes/Road-250 Black, 58",
          "Bikes/Road Bikes/Road-250 Black, 44",
          "Bikes/Road Bikes/Road-350-W Yellow, 48",
          "Bikes/Road Bikes/Road-350-W Yellow, 42",
          "Bikes/Road Bikes/Road-250 Red, 48",
          "Accessories/Hydration Packs/Hydration Pack - 70 oz.",
          "Bikes/Road Bikes/Road-250 Black, 48",
          "Accessories/Tires and Tubes/HL Mountain Tire",
          "Bikes/Road Bikes/Road-350-W Yellow, 40",
          "Bikes/Touring Bikes/Touring-1000 Blue, 46",
          "Bikes/Touring Bikes/Touring-1000 Yellow, 50",
          "Accessories/Bottles and Cages/Water Bottle - 30 oz.",
          "Bikes/Touring Bikes/Touring-1000 Yellow, 60",
          "Bikes/Road Bikes/Road-550-W Yellow, 42",
          "Bikes/Touring Bikes/Touring-1000 Yellow, 46",
          "Bikes/Road Bikes/Road-550-W Yellow, 44",
          "Clothing/Shorts/Women's Mountain Shorts, M",
          "Bikes/Touring Bikes/Touring-1000 Yellow, 54",
          "Clothing/Jerseys/Long-Sleeve Logo Jersey, L",
          "Bikes/Road Bikes/Road-750 Black, 48",
          "Bikes/Road Bikes/Road-550-W Yellow, 48",
          "Bikes/Touring Bikes/Touring-1000 Blue, 50",
          "Bikes/Road Bikes/Road-350-W Yellow, 44",
          "Bikes/Touring Bikes/Touring-1000 Blue, 54",
          "Clothing/Shorts/Women's Mountain Shorts, S",
          "Bikes/Touring Bikes/Touring-1000 Blue, 60",
          "Accessories/Tires and Tubes/ML Mountain Tire",
          "Bikes/Road Bikes/Road-250 Red, 44",
          "Bikes/Road Bikes/Road-550-W Yellow, 38",
          "Bikes/Road Bikes/Road-550-W Yellow, 40",
          "Clothing/Jerseys/Short-Sleeve Classic Jersey, S",
          "Clothing/Caps/AWC Logo Cap",
          "Bikes/Road Bikes/Road-250 Red, 52",
          "Clothing/Jerseys/Long-Sleeve Logo Jersey, M",
          "Accessories/Bike Racks/Hitch Rack - 4-Bike",
          "Clothing/Jerseys/Long-Sleeve Logo Jersey, XL",
          "Clothing/Jerseys/Short-Sleeve Classic Jersey, L",
          "Accessories/Tires and Tubes/LL Road Tire",
          "Clothing/Jerseys/Long-Sleeve Logo Jersey, S",
          "Bikes/Road Bikes/Road-750 Black, 44",
          "Clothing/Shorts/Women's Mountain Shorts, L",
          "Accessories/Tires and Tubes/ML Road Tire",
          "Accessories/Tires and Tubes/Mountain Tire Tube",
          "Accessories/Tires and Tubes/HL Road Tire",
          "Clothing/Jerseys/Short-Sleeve Classic Jersey, XL",
          "Bikes/Road Bikes/Road-750 Black, 52",
          "Clothing/Jerseys/Short-Sleeve Classic Jersey, M",
          "Bikes/Mountain Bikes/Mountain-100 Silver, 38",
          "Accessories/Bike Stands/All-Purpose Bike Stand",
          "Accessories/Bottles and Cages/Mountain Bottle Cage",
          "Bikes/Mountain Bikes/Mountain-400-W Silver, 38",
          "Clothing/Gloves/Half-Finger Gloves, S",
          "Accessories/Bottles and Cages/Road Bottle Cage",
          "Bikes/Mountain Bikes/Mountain-100 Black, 48",
          "Bikes/Mountain Bikes/Mountain-400-W Silver, 46",
          "Bikes/Touring Bikes/Touring-2000 Blue, 50",
          "Clothing/Vests/Classic Vest, S",
          "Clothing/Gloves/Half-Finger Gloves, L",
          "Accessories/Tires and Tubes/LL Mountain Tire",
          "Accessories/Tires and Tubes/Patch Kit/8 Patches",
          "Clothing/Vests/Classic Vest, M",
          "Bikes/Mountain Bikes/Mountain-100 Black, 44",
          "Bikes/Mountain Bikes/Mountain-100 Black, 38",
          "Clothing/Vests/Classic Vest, L",
          "Bikes/Mountain Bikes/Mountain-400-W Silver, 42",
          "Accessories/Tires and Tubes/Touring Tire",
          "Bikes/Touring Bikes/Touring-2000 Blue, 46",
          "Clothing/Gloves/Half-Finger Gloves, M",
          "Accessories/Tires and Tubes/Touring Tire Tube",
          "Bikes/Road Bikes/Road-750 Black, 58",
          "Bikes/Mountain Bikes/Mountain-100 Silver, 44",
          "Accessories/Tires and Tubes/Road Tire Tube",
          "Bikes/Mountain Bikes/Mountain-100 Silver, 48",
          "Bikes/Mountain Bikes/Mountain-100 Silver, 42",
          "Bikes/Touring Bikes/Touring-2000 Blue, 60",
          "Bikes/Mountain Bikes/Mountain-100 Black, 42",
          "Bikes/Road Bikes/Road-650 Red, 48",
          "Accessories/Cleaners/Bike Wash - Dissolver",
          "Bikes/Road Bikes/Road-650 Red, 62",
          "Bikes/Mountain Bikes/Mountain-400-W Silver, 40",
          "Bikes/Touring Bikes/Touring-2000 Blue, 54",
          "Bikes/Road Bikes/Road-650 Black, 62",
          "Bikes/Road Bikes/Road-650 Black, 58",
          "Bikes/Mountain Bikes/Mountain-500 Black, 44",
          "Bikes/Road Bikes/Road-650 Red, 58",
          "Clothing/Vests/Touring-1000 Yellow, 50",
          "Bikes/Touring Bikes/Touring-3000 Yellow, 44",
          "Bikes/Road Bikes/Road-650 Red, 60",
          "Bikes/Mountain Bikes/Mountain-500 Silver, 40",
          "Bikes/Road Bikes/Road-650 Black, 60",
          "Bikes/Touring Bikes/Touring-3000 Yellow, 50",
          "Bikes/Mountain Bikes/Mountain-500 Black, 40",
          "Bikes/Touring Bikes/Touring-3000 Blue, 58",
          "Bikes/Touring Bikes/Touring-3000 Yellow, 54",
          "Bikes/Mountain Bikes/Mountain-500 Silver, 42",
          "Bikes/Road Bikes/Road-650 Black, 52",
          "Bikes/Road Bikes/Road-650 Red, 44",
          "Bikes/Road Bikes/Road-650 Black, 48",
          "Bikes/Touring Bikes/Touring-3000 Blue, 62",
          "Bikes/Touring Bikes/Touring-3000 Blue, 44",
          "Bikes/Road Bikes/Road-650 Black, 44",
          "Clothing/Socks/Racing Socks, M",
          "Bikes/Mountain Bikes/Mountain-500 Black, 48",
          "Bikes/Touring Bikes/Touring-3000 Yellow, 58",
          "Clothing/Socks/Racing Socks, L",
          "Bikes/Touring Bikes/Touring-3000 Blue, 54",
          "Bikes/Touring Bikes/Touring-3000 Yellow, 62",
          "Bikes/Mountain Bikes/Mountain-500 Black, 42",
          "Bikes/Mountain Bikes/Mountain-500 Silver, 52",
          "Bikes/Mountain Bikes/Mountain-500 Silver, 44",
          "Bikes/Touring Bikes/Touring-3000 Blue, 50",
          "Bikes/Road Bikes/Road-650 Red, 52",
          "Bikes/Mountain Bikes/Mountain-500 Silver, 48",
          "Bikes/Mountain Bikes/Mountain-500 Black, 52",
          "Clothing/Socks/Women's Mountain Shorts, S",
          "Accessories/Hydration Packs/Sport-100 Helmet, Black",
          "Accessories/Bike Stands/Hitch Rack - 4-Bike",
          "Clothing/Gloves/Fender Set - Mountain",
          "Accessories/Cleaners/AWC Logo Cap",
          "Accessories/Fenders/Bike Wash - Dissolver",
          "Clothing/Caps/Water Bottle - 30 oz.",
          "Bikes/Road Bikes",
          "Bikes/Mountain Bikes",
          "Accessories/Helmets",
          "Accessories/Fenders",
          "Accessories/Hydration Packs",
          "Accessories/Tires and Tubes",
          "Bikes/Touring Bikes",
          "Accessories/Bottles and Cages",
          "Clothing/Shorts",
          "Clothing/Jerseys",
          "Clothing/Caps",
          "Accessories/Bike Racks",
          "Accessories/Bike Stands",
          "Clothing/Gloves",
          "Clothing/Vests",
          "Accessories/Cleaners",
          "Clothing/Socks",
          "Bikes",
          "Accessories",
          "Clothing"
         ],
         "labels": [
          "Road-150 Red, 62",
          "Mountain-200 Black, 38",
          "Road-150 Red, 52",
          "Road-150 Red, 56",
          "Mountain-200 Silver, 42",
          "Mountain-200 Silver, 38",
          "Road-150 Red, 48",
          "Mountain-200 Black, 46",
          "Mountain-200 Black, 42",
          "Mountain-200 Silver, 46",
          "Sport-100 Helmet, Red",
          "Sport-100 Helmet, Black",
          "Road-150 Red, 44",
          "Sport-100 Helmet, Blue",
          "Road-250 Black, 52",
          "Road-250 Red, 58",
          "Fender Set - Mountain",
          "Road-250 Black, 58",
          "Road-250 Black, 44",
          "Road-350-W Yellow, 48",
          "Road-350-W Yellow, 42",
          "Road-250 Red, 48",
          "Hydration Pack - 70 oz.",
          "Road-250 Black, 48",
          "HL Mountain Tire",
          "Road-350-W Yellow, 40",
          "Touring-1000 Blue, 46",
          "Touring-1000 Yellow, 50",
          "Water Bottle - 30 oz.",
          "Touring-1000 Yellow, 60",
          "Road-550-W Yellow, 42",
          "Touring-1000 Yellow, 46",
          "Road-550-W Yellow, 44",
          "Women's Mountain Shorts, M",
          "Touring-1000 Yellow, 54",
          "Long-Sleeve Logo Jersey, L",
          "Road-750 Black, 48",
          "Road-550-W Yellow, 48",
          "Touring-1000 Blue, 50",
          "Road-350-W Yellow, 44",
          "Touring-1000 Blue, 54",
          "Women's Mountain Shorts, S",
          "Touring-1000 Blue, 60",
          "ML Mountain Tire",
          "Road-250 Red, 44",
          "Road-550-W Yellow, 38",
          "Road-550-W Yellow, 40",
          "Short-Sleeve Classic Jersey, S",
          "AWC Logo Cap",
          "Road-250 Red, 52",
          "Long-Sleeve Logo Jersey, M",
          "Hitch Rack - 4-Bike",
          "Long-Sleeve Logo Jersey, XL",
          "Short-Sleeve Classic Jersey, L",
          "LL Road Tire",
          "Long-Sleeve Logo Jersey, S",
          "Road-750 Black, 44",
          "Women's Mountain Shorts, L",
          "ML Road Tire",
          "Mountain Tire Tube",
          "HL Road Tire",
          "Short-Sleeve Classic Jersey, XL",
          "Road-750 Black, 52",
          "Short-Sleeve Classic Jersey, M",
          "Mountain-100 Silver, 38",
          "All-Purpose Bike Stand",
          "Mountain Bottle Cage",
          "Mountain-400-W Silver, 38",
          "Half-Finger Gloves, S",
          "Road Bottle Cage",
          "Mountain-100 Black, 48",
          "Mountain-400-W Silver, 46",
          "Touring-2000 Blue, 50",
          "Classic Vest, S",
          "Half-Finger Gloves, L",
          "LL Mountain Tire",
          "Patch Kit/8 Patches",
          "Classic Vest, M",
          "Mountain-100 Black, 44",
          "Mountain-100 Black, 38",
          "Classic Vest, L",
          "Mountain-400-W Silver, 42",
          "Touring Tire",
          "Touring-2000 Blue, 46",
          "Half-Finger Gloves, M",
          "Touring Tire Tube",
          "Road-750 Black, 58",
          "Mountain-100 Silver, 44",
          "Road Tire Tube",
          "Mountain-100 Silver, 48",
          "Mountain-100 Silver, 42",
          "Touring-2000 Blue, 60",
          "Mountain-100 Black, 42",
          "Road-650 Red, 48",
          "Bike Wash - Dissolver",
          "Road-650 Red, 62",
          "Mountain-400-W Silver, 40",
          "Touring-2000 Blue, 54",
          "Road-650 Black, 62",
          "Road-650 Black, 58",
          "Mountain-500 Black, 44",
          "Road-650 Red, 58",
          "Touring-1000 Yellow, 50",
          "Touring-3000 Yellow, 44",
          "Road-650 Red, 60",
          "Mountain-500 Silver, 40",
          "Road-650 Black, 60",
          "Touring-3000 Yellow, 50",
          "Mountain-500 Black, 40",
          "Touring-3000 Blue, 58",
          "Touring-3000 Yellow, 54",
          "Mountain-500 Silver, 42",
          "Road-650 Black, 52",
          "Road-650 Red, 44",
          "Road-650 Black, 48",
          "Touring-3000 Blue, 62",
          "Touring-3000 Blue, 44",
          "Road-650 Black, 44",
          "Racing Socks, M",
          "Mountain-500 Black, 48",
          "Touring-3000 Yellow, 58",
          "Racing Socks, L",
          "Touring-3000 Blue, 54",
          "Touring-3000 Yellow, 62",
          "Mountain-500 Black, 42",
          "Mountain-500 Silver, 52",
          "Mountain-500 Silver, 44",
          "Touring-3000 Blue, 50",
          "Road-650 Red, 52",
          "Mountain-500 Silver, 48",
          "Mountain-500 Black, 52",
          "Women's Mountain Shorts, S",
          "Sport-100 Helmet, Black",
          "Hitch Rack - 4-Bike",
          "Fender Set - Mountain",
          "AWC Logo Cap",
          "Bike Wash - Dissolver",
          "Water Bottle - 30 oz.",
          "Road Bikes",
          "Mountain Bikes",
          "Helmets",
          "Fenders",
          "Hydration Packs",
          "Tires and Tubes",
          "Touring Bikes",
          "Bottles and Cages",
          "Shorts",
          "Jerseys",
          "Caps",
          "Bike Racks",
          "Bike Stands",
          "Gloves",
          "Vests",
          "Cleaners",
          "Socks",
          "Bikes",
          "Accessories",
          "Clothing"
         ],
         "marker": {
          "coloraxis": "coloraxis",
          "colors": {
           "bdata": "C7MTlgroP0B4XTtaXUpDQNNiuUfENUBAaBKaCgNPP0CJ4Z9uMc9DQOAjFZKhCkNAr3mZkhy2PUDXVZs+y2hDQGuaDzjpY0NAeu0YTo06Q0By8cJDDFRNQK4a79ubH01Agn2rLT8fPkC2+zwM8F9NQI80TZyWlTtAsLKWb9IUPEAReIltuOBNQBtgyJV0yDxAHHNfgdzNOkAbRlQCRrE9QGtz1iUHojxAhmetF+r2PUDxEAAGMrxMQEBuQBRqUjtA3KdHAW+6TUDWcdB4noA6QAT9zsyBFz9A4Rv3P9NqP0AdikKBq99LQCSylDYz8j5AyZgSKvsfPUAcU1z3Eyc9QE+Kmnd1/TtA2b0nryl+TUDiZPNn4mc/QNL0hVcWADFAEhyxWe8NPUDn1ZUXsxU8QBT0yQa0MD5AOSt20ztHOkCUjdggjfs+QFpLiuycm01ALeJLQtVuP0DCEQ4Pd7dNQOQ1fpo6FUBAyZyAY5hIO0AcnSUN+vM7QE6fsUU63ShAP9i+Gkf7KkDjmAMO+Jc8QL8/lQZeLDFAoxZs5wotTUCfR1JrBzgsQMfOBS0JDilANyhInp1lTECIh4pt+hovQHIQX+VsgDxAu6CPreFeTUAT7DnDQeZNQBJB5kBE80tABkeGChtITUA1Ma1pxIIpQDmaV0wt8jxA43KQ5QgeJEDqB0rR7t9BQHG0Ein8J01AX+CjSNKrS0D8di3KEPlDQKWDUBwuVU1AyzmzjHZDT0D29znCdOA/QMFaFOxcfkNAUQfe+c/2P0BnJkUahEtNQJ1jVBMkCU1AGL2eaOCwTUCxkjwQqxxGQAovBigfBE1A7fXxV5eMQUCu+jv0uFlBQC0WKu2BBk1AKM6tqsHsQ0AQURRanJdMQKzWdO0TRD5AOstfavMrTUBXVz4+TdZLQFRfYEIB+jtAuaLkdaXVPkBp1Eairg1SQH/8/qsxJUFAOx0TOxgjP0CpovVBQvc9QIrMg3nR2kBAcKiH5aa8O0CgL+/hJRBNQL7TvNFnt0BAXYVZK70BREA3HCnQysQ+QA8LQgeeS0BAEaI9AWtdPUA0jZJgFXNEQK+u6cTptDpAjkAvApf+OUBcu5ErdGs+QA9wtRANAz5AzvhwxbT9Q0BGsuHdDmk+QO90YeB4Az9Aejy4qB7zQ0D2ph10fYQ+QH81kBhtCD1AvrZ4kDy/Q0CBg56roUM6QHN++AJ7wT5AXUbxCtNtPEC66TbDtlo7QNS1pvaJ+D5AWETfyhfUOkDhXS9RjHZPQD+XbYhQeEJAgvmDe3+ZPkATNk9onYpPQDQThsOtGT9AVby1pXrNP0AfYWVCKvREQAU1dUbUwkJAbogZ/ugFREDJcNvAmiA9QM7GW8i5bTlAA/fRoobbQkAy+47qEcxCQHH6B2rUP09AjIohs7toTED5VhUXWN1OQOf4zcOEl0pAKoyzKYyzNEDZKH+5TxtMQAAAAAAAAElA9QNYAJWrPUCEPOhhGCZDQF3gnrzwRU1ATEnLvZTgTUBG0O8ADbxMQPgWtEZkDk1AF1SoJwLEPkBYPeQt4JpMQMMoND6Af01Af173G35FLECKWOCf0vsqQKMWbOcKLU1AQbPHTscpTUB5o0QFdC9NQH++/jj+NUtA7/mbwBYFTUCGALSSi35PQAMHSN7pX0BAEKkA9zEmTUDPNQdPC7pAQA==",
           "dtype": "f8"
          }
         },
         "name": "",
         "parents": [
          "Bikes/Road Bikes",
          "Bikes/Mountain Bikes",
          "Bikes/Road Bikes",
          "Bikes/Road Bikes",
          "Bikes/Mountain Bikes",
          "Bikes/Mountain Bikes",
          "Bikes/Road Bikes",
          "Bikes/Mountain Bikes",
          "Bikes/Mountain Bikes",
          "Bikes/Mountain Bikes",
          "Accessories/Helmets",
          "Accessories/Helmets",
          "Bikes/Road Bikes",
          "Accessories/Helmets",
          "Bikes/Road Bikes",
          "Bikes/Road Bikes",
          "Accessories/Fenders",
          "Bikes/Road Bikes",
          "Bikes/Road Bikes",
          "Bikes/Road Bikes",
          "Bikes/Road Bikes",
          "Bikes/Road Bikes",
          "Accessories/Hydration Packs",
          "Bikes/Road Bikes",
          "Accessories/Tires and Tubes",
          "Bikes/Road Bikes",
          "Bikes/Touring Bikes",
          "Bikes/Touring Bikes",
          "Accessories/Bottles and Cages",
          "Bikes/Touring Bikes",
          "Bikes/Road Bikes",
          "Bikes/Touring Bikes",
          "Bikes/Road Bikes",
          "Clothing/Shorts",
          "Bikes/Touring Bikes",
          "Clothing/Jerseys",
          "Bikes/Road Bikes",
          "Bikes/Road Bikes",
          "Bikes/Touring Bikes",
          "Bikes/Road Bikes",
          "Bikes/Touring Bikes",
          "Clothing/Shorts",
          "Bikes/Touring Bikes",
          "Accessories/Tires and Tubes",
          "Bikes/Road Bikes",
          "Bikes/Road Bikes",
          "Bikes/Road Bikes",
          "Clothing/Jerseys",
          "Clothing/Caps",
          "Bikes/Road Bikes",
          "Clothing/Jerseys",
          "Accessories/Bike Racks",
          "Clothing/Jerseys",
          "Clothing/Jerseys",
          "Accessories/Tires and Tubes",
          "Clothing/Jerseys",
          "Bikes/Road Bikes",
          "Clothing/Shorts",
          "Accessories/Tires and Tubes",
          "Accessories/Tires and Tubes",
          "Accessories/Tires and Tubes",
          "Clothing/Jerseys",
          "Bikes/Road Bikes",
          "Clothing/Jerseys",
          "Bikes/Mountain Bikes",
          "Accessories/Bike Stands",
          "Accessories/Bottles and Cages",
          "Bikes/Mountain Bikes",
          "Clothing/Gloves",
          "Accessories/Bottles and Cages",
          "Bikes/Mountain Bikes",
          "Bikes/Mountain Bikes",
          "Bikes/Touring Bikes",
          "Clothing/Vests",
          "Clothing/Gloves",
          "Accessories/Tires and Tubes",
          "Accessories/Tires and Tubes",
          "Clothing/Vests",
          "Bikes/Mountain Bikes",
          "Bikes/Mountain Bikes",
          "Clothing/Vests",
          "Bikes/Mountain Bikes",
          "Accessories/Tires and Tubes",
          "Bikes/Touring Bikes",
          "Clothing/Gloves",
          "Accessories/Tires and Tubes",
          "Bikes/Road Bikes",
          "Bikes/Mountain Bikes",
          "Accessories/Tires and Tubes",
          "Bikes/Mountain Bikes",
          "Bikes/Mountain Bikes",
          "Bikes/Touring Bikes",
          "Bikes/Mountain Bikes",
          "Bikes/Road Bikes",
          "Accessories/Cleaners",
          "Bikes/Road Bikes",
          "Bikes/Mountain Bikes",
          "Bikes/Touring Bikes",
          "Bikes/Road Bikes",
          "Bikes/Road Bikes",
          "Bikes/Mountain Bikes",
          "Bikes/Road Bikes",
          "Clothing/Vests",
          "Bikes/Touring Bikes",
          "Bikes/Road Bikes",
          "Bikes/Mountain Bikes",
          "Bikes/Road Bikes",
          "Bikes/Touring Bikes",
          "Bikes/Mountain Bikes",
          "Bikes/Touring Bikes",
          "Bikes/Touring Bikes",
          "Bikes/Mountain Bikes",
          "Bikes/Road Bikes",
          "Bikes/Road Bikes",
          "Bikes/Road Bikes",
          "Bikes/Touring Bikes",
          "Bikes/Touring Bikes",
          "Bikes/Road Bikes",
          "Clothing/Socks",
          "Bikes/Mountain Bikes",
          "Bikes/Touring Bikes",
          "Clothing/Socks",
          "Bikes/Touring Bikes",
          "Bikes/Touring Bikes",
          "Bikes/Mountain Bikes",
          "Bikes/Mountain Bikes",
          "Bikes/Mountain Bikes",
          "Bikes/Touring Bikes",
          "Bikes/Road Bikes",
          "Bikes/Mountain Bikes",
          "Bikes/Mountain Bikes",
          "Clothing/Socks",
          "Accessories/Hydration Packs",
          "Accessories/Bike Stands",
          "Clothing/Gloves",
          "Accessories/Cleaners",
          "Accessories/Fenders",
          "Clothing/Caps",
          "Bikes",
          "Bikes",
          "Accessories",
          "Accessories",
          "Accessories",
          "Accessories",
          "Bikes",
          "Accessories",
          "Clothing",
          "Clothing",
          "Clothing",
          "Accessories",
          "Accessories",
          "Clothing",
          "Clothing",
          "Accessories",
          "Clothing",
          "",
          "",
          ""
         ],
         "type": "treemap",
         "values": {
          "bdata": "AAAAAFQ3TUEAAAAAtK5JQQAAAACUREhBAAAAgIoZSEEAAAAAu4FHQQAAAACZKEdBAAAAgJ6fRkEAAAAAaiFFQQAAAABjJ0RBAAAAAOkgQkEAAAAAzc4+QQAAAABjtT1BAAAAACxfPUEAAAAA6RU7QQAAAACFxjhBAAAAAPqGM0EAAAAApgAzQQAAAADoKDJBAAAAADjxMUEAAAAAS6gxQQAAAACuqjBBAAAAAKT8LkEAAAAAJCwuQQAAAADS1StBAAAAAPQoK0EAAAAA1PQpQQAAAABkZylBAAAAAEYqKUEAAAAAHsQmQQAAAAAsoiZBAAAAALxbJkEAAAAAHBYlQQAAAACsByVBAAAAAOY8JEEAAAAAYCokQQAAAACwoyNBAAAAANApI0EAAAAAoLEiQQAAAAA+eiJBAAAAAOBZIkEAAAAA+ksiQQAAAADAGyJBAAAAAKLJIUEAAAAA2oQhQQAAAAAKaSFBAAAAAExhIUEAAAAArlkhQQAAAAAKESFBAAAAADK/IEEAAAAAajIgQQAAAABI/B9BAAAAAKCaH0EAAAAAtHgfQQAAAAAsth5BAAAAAEg5HkEAAAAAuCEeQQAAAAC8EB5BAAAAAEyNHUEAAAAAxK8cQQAAAADMrhxBAAAAAIDMG0EAAAAAWEobQQAAAACkQBpBAAAAAIwUGkEAAAAAqNsVQQAAAAAg6hRBAAAAAMSvFEEAAAAAwDMUQQAAAACo1BNBAAAAAFjKE0EAAAAAhJESQQAAAADIXhJBAAAAACwXEkEAAAAA9KYRQQAAAACoZhFBAAAAAPxfEUEAAAAAXFMRQQAAAACwAxFBAAAAACTOEEEAAAAA8LUQQQAAAAA8ahBBAAAAAJgrEEEAAAAA9BgQQQAAAAAw8g9BAAAAAGDVD0EAAAAAwG8PQQAAAACwAA1BAAAAANATDEEAAAAAcKULQQAAAAAw1wpBAAAAAFAvCkEAAAAAmLYJQQAAAAAIsQlBAAAAAPjBCEEAAAAA0DYIQQAAAABIPQdBAAAAAEA1B0EAAAAAuBwGQQAAAACw+P5AAAAAABCZ/kAAAAAA8E38QAAAAACA4PtAAAAAAPBg+0AAAAAAoB/7QAAAAADgqPlAAAAAADCf+UAAAAAAAFz5QAAAAAAwJflAAAAAADCU90AAAAAAoHH3QAAAAACwbfdAAAAAAACT9kAAAAAAoFL1QAAAAADwBPVAAAAAALDc9EAAAAAAMHj0QAAAAABQa/RAAAAAAODt80AAAAAAcPbyQAAAAADg0fBAAAAAAAC48EAAAAAA0EHwQAAAAAAAv+5AAAAAAECn60AAAAAAYAvrQAAAAABA9OhAAAAAAMA86EAAAAAAwE/mQAAAAACg7eBAAAAAAIAw2UAAAAAAwNXSQAAAAAAAvqZAAAAAAADQmkAAAAAAAAyWQAAAAAAA2INAAAAAAACwfEAAAAAAAPB3QAAAAAAAADBAAAAAUEfRf0EAAABgHCV0QQAAAECG5lVBAAAAACUCM0EAAAAAjDkuQQAAAIBt0VFBAAAAwI7UW0EAAAAAloA1QQAAAACmjzpBAAAAAKdiT0EAAAAAUr8gQQAAAACgmh9BAAAAACwAFUEAAAAA9pcqQQAAAACO9ixBAAAAAChFCEEAAAAAGPcBQQAAALDDdY1BAAAAANXVbEEAAACAsO5fQQ==",
          "dtype": "f8"
         }
        }
       ],
       "layout": {
        "coloraxis": {
         "colorbar": {
          "title": {
           "text": "Profit_Margin"
          }
         },
         "colorscale": [
          [
           0,
           "rgb(165,0,38)"
          ],
          [
           0.1,
           "rgb(215,48,39)"
          ],
          [
           0.2,
           "rgb(244,109,67)"
          ],
          [
           0.3,
           "rgb(253,174,97)"
          ],
          [
           0.4,
           "rgb(254,224,139)"
          ],
          [
           0.5,
           "rgb(255,255,191)"
          ],
          [
           0.6,
           "rgb(217,239,139)"
          ],
          [
           0.7,
           "rgb(166,217,106)"
          ],
          [
           0.8,
           "rgb(102,189,99)"
          ],
          [
           0.9,
           "rgb(26,152,80)"
          ],
          [
           1,
           "rgb(0,104,55)"
          ]
         ]
        },
        "legend": {
         "tracegroupgap": 0
        },
        "margin": {
         "b": 25,
         "l": 25,
         "r": 25,
         "t": 50
        },
        "template": {
         "data": {
          "bar": [
           {
            "error_x": {
             "color": "#2a3f5f"
            },
            "error_y": {
             "color": "#2a3f5f"
            },
            "marker": {
             "line": {
              "color": "#E5ECF6",
              "width": 0.5
             },
             "pattern": {
              "fillmode": "overlay",
              "size": 10,
              "solidity": 0.2
             }
            },
            "type": "bar"
           }
          ],
          "barpolar": [
           {
            "marker": {
             "line": {
              "color": "#E5ECF6",
              "width": 0.5
             },
             "pattern": {
              "fillmode": "overlay",
              "size": 10,
              "solidity": 0.2
             }
            },
            "type": "barpolar"
           }
          ],
          "carpet": [
           {
            "aaxis": {
             "endlinecolor": "#2a3f5f",
             "gridcolor": "white",
             "linecolor": "white",
             "minorgridcolor": "white",
             "startlinecolor": "#2a3f5f"
            },
            "baxis": {
             "endlinecolor": "#2a3f5f",
             "gridcolor": "white",
             "linecolor": "white",
             "minorgridcolor": "white",
             "startlinecolor": "#2a3f5f"
            },
            "type": "carpet"
           }
          ],
          "choropleth": [
           {
            "colorbar": {
             "outlinewidth": 0,
             "ticks": ""
            },
            "type": "choropleth"
           }
          ],
          "contour": [
           {
            "colorbar": {
             "outlinewidth": 0,
             "ticks": ""
            },
            "colorscale": [
             [
              0,
              "#0d0887"
             ],
             [
              0.1111111111111111,
              "#46039f"
             ],
             [
              0.2222222222222222,
              "#7201a8"
             ],
             [
              0.3333333333333333,
              "#9c179e"
             ],
             [
              0.4444444444444444,
              "#bd3786"
             ],
             [
              0.5555555555555556,
              "#d8576b"
             ],
             [
              0.6666666666666666,
              "#ed7953"
             ],
             [
              0.7777777777777778,
              "#fb9f3a"
             ],
             [
              0.8888888888888888,
              "#fdca26"
             ],
             [
              1,
              "#f0f921"
             ]
            ],
            "type": "contour"
           }
          ],
          "contourcarpet": [
           {
            "colorbar": {
             "outlinewidth": 0,
             "ticks": ""
            },
            "type": "contourcarpet"
           }
          ],
          "heatmap": [
           {
            "colorbar": {
             "outlinewidth": 0,
             "ticks": ""
            },
            "colorscale": [
             [
              0,
              "#0d0887"
             ],
             [
              0.1111111111111111,
              "#46039f"
             ],
             [
              0.2222222222222222,
              "#7201a8"
             ],
             [
              0.3333333333333333,
              "#9c179e"
             ],
             [
              0.4444444444444444,
              "#bd3786"
             ],
             [
              0.5555555555555556,
              "#d8576b"
             ],
             [
              0.6666666666666666,
              "#ed7953"
             ],
             [
              0.7777777777777778,
              "#fb9f3a"
             ],
             [
              0.8888888888888888,
              "#fdca26"
             ],
             [
              1,
              "#f0f921"
             ]
            ],
            "type": "heatmap"
           }
          ],
          "histogram": [
           {
            "marker": {
             "pattern": {
              "fillmode": "overlay",
              "size": 10,
              "solidity": 0.2
             }
            },
            "type": "histogram"
           }
          ],
          "histogram2d": [
           {
            "colorbar": {
             "outlinewidth": 0,
             "ticks": ""
            },
            "colorscale": [
             [
              0,
              "#0d0887"
             ],
             [
              0.1111111111111111,
              "#46039f"
             ],
             [
              0.2222222222222222,
              "#7201a8"
             ],
             [
              0.3333333333333333,
              "#9c179e"
             ],
             [
              0.4444444444444444,
              "#bd3786"
             ],
             [
              0.5555555555555556,
              "#d8576b"
             ],
             [
              0.6666666666666666,
              "#ed7953"
             ],
             [
              0.7777777777777778,
              "#fb9f3a"
             ],
             [
              0.8888888888888888,
              "#fdca26"
             ],
             [
              1,
              "#f0f921"
             ]
            ],
            "type": "histogram2d"
           }
          ],
          "histogram2dcontour": [
           {
            "colorbar": {
             "outlinewidth": 0,
             "ticks": ""
            },
            "colorscale": [
             [
              0,
              "#0d0887"
             ],
             [
              0.1111111111111111,
              "#46039f"
             ],
             [
              0.2222222222222222,
              "#7201a8"
             ],
             [
              0.3333333333333333,
              "#9c179e"
             ],
             [
              0.4444444444444444,
              "#bd3786"
             ],
             [
              0.5555555555555556,
              "#d8576b"
             ],
             [
              0.6666666666666666,
              "#ed7953"
             ],
             [
              0.7777777777777778,
              "#fb9f3a"
             ],
             [
              0.8888888888888888,
              "#fdca26"
             ],
             [
              1,
              "#f0f921"
             ]
            ],
            "type": "histogram2dcontour"
           }
          ],
          "mesh3d": [
           {
            "colorbar": {
             "outlinewidth": 0,
             "ticks": ""
            },
            "type": "mesh3d"
           }
          ],
          "parcoords": [
           {
            "line": {
             "colorbar": {
              "outlinewidth": 0,
              "ticks": ""
             }
            },
            "type": "parcoords"
           }
          ],
          "pie": [
           {
            "automargin": true,
            "type": "pie"
           }
          ],
          "scatter": [
           {
            "fillpattern": {
             "fillmode": "overlay",
             "size": 10,
             "solidity": 0.2
            },
            "type": "scatter"
           }
          ],
          "scatter3d": [
           {
            "line": {
             "colorbar": {
              "outlinewidth": 0,
              "ticks": ""
             }
            },
            "marker": {
             "colorbar": {
              "outlinewidth": 0,
              "ticks": ""
             }
            },
            "type": "scatter3d"
           }
          ],
          "scattercarpet": [
           {
            "marker": {
             "colorbar": {
              "outlinewidth": 0,
              "ticks": ""
             }
            },
            "type": "scattercarpet"
           }
          ],
          "scattergeo": [
           {
            "marker": {
             "colorbar": {
              "outlinewidth": 0,
              "ticks": ""
             }
            },
            "type": "scattergeo"
           }
          ],
          "scattergl": [
           {
            "marker": {
             "colorbar": {
              "outlinewidth": 0,
              "ticks": ""
             }
            },
            "type": "scattergl"
           }
          ],
          "scattermap": [
           {
            "marker": {
             "colorbar": {
              "outlinewidth": 0,
              "ticks": ""
             }
            },
            "type": "scattermap"
           }
          ],
          "scattermapbox": [
           {
            "marker": {
             "colorbar": {
              "outlinewidth": 0,
              "ticks": ""
             }
            },
            "type": "scattermapbox"
           }
          ],
          "scatterpolar": [
           {
            "marker": {
             "colorbar": {
              "outlinewidth": 0,
              "ticks": ""
             }
            },
            "type": "scatterpolar"
           }
          ],
          "scatterpolargl": [
           {
            "marker": {
             "colorbar": {
              "outlinewidth": 0,
              "ticks": ""
             }
            },
            "type": "scatterpolargl"
           }
          ],
          "scatterternary": [
           {
            "marker": {
             "colorbar": {
              "outlinewidth": 0,
              "ticks": ""
             }
            },
            "type": "scatterternary"
           }
          ],
          "surface": [
           {
            "colorbar": {
             "outlinewidth": 0,
             "ticks": ""
            },
            "colorscale": [
             [
              0,
              "#0d0887"
             ],
             [
              0.1111111111111111,
              "#46039f"
             ],
             [
              0.2222222222222222,
              "#7201a8"
             ],
             [
              0.3333333333333333,
              "#9c179e"
             ],
             [
              0.4444444444444444,
              "#bd3786"
             ],
             [
              0.5555555555555556,
              "#d8576b"
             ],
             [
              0.6666666666666666,
              "#ed7953"
             ],
             [
              0.7777777777777778,
              "#fb9f3a"
             ],
             [
              0.8888888888888888,
              "#fdca26"
             ],
             [
              1,
              "#f0f921"
             ]
            ],
            "type": "surface"
           }
          ],
          "table": [
           {
            "cells": {
             "fill": {
              "color": "#EBF0F8"
             },
             "line": {
              "color": "white"
             }
            },
            "header": {
             "fill": {
              "color": "#C8D4E3"
             },
             "line": {
              "color": "white"
             }
            },
            "type": "table"
           }
          ]
         },
         "layout": {
          "annotationdefaults": {
           "arrowcolor": "#2a3f5f",
           "arrowhead": 0,
           "arrowwidth": 1
          },
          "autotypenumbers": "strict",
          "coloraxis": {
           "colorbar": {
            "outlinewidth": 0,
            "ticks": ""
           }
          },
          "colorscale": {
           "diverging": [
            [
             0,
             "#8e0152"
            ],
            [
             0.1,
             "#c51b7d"
            ],
            [
             0.2,
             "#de77ae"
            ],
            [
             0.3,
             "#f1b6da"
            ],
            [
             0.4,
             "#fde0ef"
            ],
            [
             0.5,
             "#f7f7f7"
            ],
            [
             0.6,
             "#e6f5d0"
            ],
            [
             0.7,
             "#b8e186"
            ],
            [
             0.8,
             "#7fbc41"
            ],
            [
             0.9,
             "#4d9221"
            ],
            [
             1,
             "#276419"
            ]
           ],
           "sequential": [
            [
             0,
             "#0d0887"
            ],
            [
             0.1111111111111111,
             "#46039f"
            ],
            [
             0.2222222222222222,
             "#7201a8"
            ],
            [
             0.3333333333333333,
             "#9c179e"
            ],
            [
             0.4444444444444444,
             "#bd3786"
            ],
            [
             0.5555555555555556,
             "#d8576b"
            ],
            [
             0.6666666666666666,
             "#ed7953"
            ],
            [
             0.7777777777777778,
             "#fb9f3a"
            ],
            [
             0.8888888888888888,
             "#fdca26"
            ],
            [
             1,
             "#f0f921"
            ]
           ],
           "sequentialminus": [
            [
             0,
             "#0d0887"
            ],
            [
             0.1111111111111111,
             "#46039f"
            ],
            [
             0.2222222222222222,
             "#7201a8"
            ],
            [
             0.3333333333333333,
             "#9c179e"
            ],
            [
             0.4444444444444444,
             "#bd3786"
            ],
            [
             0.5555555555555556,
             "#d8576b"
            ],
            [
             0.6666666666666666,
             "#ed7953"
            ],
            [
             0.7777777777777778,
             "#fb9f3a"
            ],
            [
             0.8888888888888888,
             "#fdca26"
            ],
            [
             1,
             "#f0f921"
            ]
           ]
          },
          "colorway": [
           "#636efa",
           "#EF553B",
           "#00cc96",
           "#ab63fa",
           "#FFA15A",
           "#19d3f3",
           "#FF6692",
           "#B6E880",
           "#FF97FF",
           "#FECB52"
          ],
          "font": {
           "color": "#2a3f5f"
          },
          "geo": {
           "bgcolor": "white",
           "lakecolor": "white",
           "landcolor": "#E5ECF6",
           "showlakes": true,
           "showland": true,
           "subunitcolor": "white"
          },
          "hoverlabel": {
           "align": "left"
          },
          "hovermode": "closest",
          "mapbox": {
           "style": "light"
          },
          "paper_bgcolor": "white",
          "plot_bgcolor": "#E5ECF6",
          "polar": {
           "angularaxis": {
            "gridcolor": "white",
            "linecolor": "white",
            "ticks": ""
           },
           "bgcolor": "#E5ECF6",
           "radialaxis": {
            "gridcolor": "white",
            "linecolor": "white",
            "ticks": ""
           }
          },
          "scene": {
           "xaxis": {
            "backgroundcolor": "#E5ECF6",
            "gridcolor": "white",
            "gridwidth": 2,
            "linecolor": "white",
            "showbackground": true,
            "ticks": "",
            "zerolinecolor": "white"
           },
           "yaxis": {
            "backgroundcolor": "#E5ECF6",
            "gridcolor": "white",
            "gridwidth": 2,
            "linecolor": "white",
            "showbackground": true,
            "ticks": "",
            "zerolinecolor": "white"
           },
           "zaxis": {
            "backgroundcolor": "#E5ECF6",
            "gridcolor": "white",
            "gridwidth": 2,
            "linecolor": "white",
            "showbackground": true,
            "ticks": "",
            "zerolinecolor": "white"
           }
          },
          "shapedefaults": {
           "line": {
            "color": "#2a3f5f"
           }
          },
          "ternary": {
           "aaxis": {
            "gridcolor": "white",
            "linecolor": "white",
            "ticks": ""
           },
           "baxis": {
            "gridcolor": "white",
            "linecolor": "white",
            "ticks": ""
           },
           "bgcolor": "#E5ECF6",
           "caxis": {
            "gridcolor": "white",
            "linecolor": "white",
            "ticks": ""
           }
          },
          "title": {
           "x": 0.05
          },
          "xaxis": {
           "automargin": true,
           "gridcolor": "white",
           "linecolor": "white",
           "ticks": "",
           "title": {
            "standoff": 15
           },
           "zerolinecolor": "white",
           "zerolinewidth": 2
          },
          "yaxis": {
           "automargin": true,
           "gridcolor": "white",
           "linecolor": "white",
           "ticks": "",
           "title": {
            "standoff": 15
           },
           "zerolinecolor": "white",
           "zerolinewidth": 2
          }
         }
        },
        "title": {
         "text": "Distribuição de Receita por Categoria de Produto"
        }
       }
      }
     },
     "metadata": {},
     "output_type": "display_data"
    }
   ],
   "source": [
    "#Vendas por categoria dos produtos\n",
    "sales_by_product = df.groupby(['Product_Category', 'Sub_Category', 'Product']).agg({\n",
    "    'Revenue': 'sum',\n",
    "    'Profit': 'sum',\n",
    "    'Order_Quantity': 'sum',\n",
    "    'Profit_Margin': 'mean'\n",
    "}).reset_index().sort_values('Revenue', ascending=False)\n",
    "\n",
    "\n",
    "#Criando o Gráfico de treemap \n",
    "fig = px.treemap(sales_by_product, path=['Product_Category', 'Sub_Category', 'Product'], \n",
    "                 values='Revenue', color='Profit_Margin',\n",
    "                 color_continuous_scale='RdYlGn',\n",
    "                 title='Distribuição de Receita por Categoria de Produto',\n",
    "                 hover_data=['Order_Quantity', 'Profit'])\n",
    "fig.update_layout(margin=dict(t=50, l=25, r=25, b=25))\n",
    "fig.show()\n"
   ]
  },
  {
   "cell_type": "markdown",
   "id": "64d6631f",
   "metadata": {},
   "source": [
    "### **Análise de Clientes**\n",
    "\n",
    "<hr>\n",
    "<br>"
   ]
  },
  {
   "cell_type": "code",
   "execution_count": 9,
   "id": "8210a965",
   "metadata": {},
   "outputs": [
    {
     "data": {
      "application/vnd.plotly.v1+json": {
       "config": {
        "plotlyServerURL": "https://plot.ly"
       },
       "data": [
        {
         "alignmentgroup": "True",
         "customdata": {
          "bdata": "u9l7AGxrAAAf/gAATgEAAEkTVQAkSQAASSkeAOYfAAA=",
          "dtype": "i4",
          "shape": "4, 2"
         },
         "hovertemplate": "Customer_Gender=F<br>Age_Group=%{x}<br>Revenue=%{y}<br>Profit=%{customdata[0]}<br>Count=%{customdata[1]}<extra></extra>",
         "legendgroup": "F",
         "marker": {
          "color": "#636efa",
          "pattern": {
           "shape": ""
          }
         },
         "name": "F",
         "offsetgroup": "F",
         "orientation": "v",
         "showlegend": true,
         "textposition": "auto",
         "type": "bar",
         "x": [
          "Adults (35-64)",
          "Seniors (64+)",
          "Young Adults (25-34)",
          "Youth (<25)"
         ],
         "xaxis": "x",
         "y": {
          "bdata": "nYpEAQL8AQCC2OcAzoNRAA==",
          "dtype": "i4"
         },
         "yaxis": "y"
        },
        {
         "alignmentgroup": "True",
         "customdata": {
          "bdata": "czJ9AKRuAACWHQEAjAEAAECsWADaTQAA95YkAL4lAAA=",
          "dtype": "i4",
          "shape": "4, 2"
         },
         "hovertemplate": "Customer_Gender=M<br>Age_Group=%{x}<br>Revenue=%{y}<br>Profit=%{customdata[0]}<br>Count=%{customdata[1]}<extra></extra>",
         "legendgroup": "M",
         "marker": {
          "color": "#EF553B",
          "pattern": {
           "shape": ""
          }
         },
         "name": "M",
         "offsetgroup": "M",
         "orientation": "v",
         "showlegend": true,
         "textposition": "auto",
         "type": "bar",
         "x": [
          "Adults (35-64)",
          "Seniors (64+)",
          "Young Adults (25-34)",
          "Youth (<25)"
         ],
         "xaxis": "x",
         "y": {
          "bdata": "vD1FAUi3AgD86+sA8V1hAA==",
          "dtype": "i4"
         },
         "yaxis": "y"
        }
       ],
       "layout": {
        "barmode": "group",
        "legend": {
         "title": {
          "text": "Customer_Gender"
         },
         "tracegroupgap": 0
        },
        "template": {
         "data": {
          "bar": [
           {
            "error_x": {
             "color": "#2a3f5f"
            },
            "error_y": {
             "color": "#2a3f5f"
            },
            "marker": {
             "line": {
              "color": "white",
              "width": 0.5
             },
             "pattern": {
              "fillmode": "overlay",
              "size": 10,
              "solidity": 0.2
             }
            },
            "type": "bar"
           }
          ],
          "barpolar": [
           {
            "marker": {
             "line": {
              "color": "white",
              "width": 0.5
             },
             "pattern": {
              "fillmode": "overlay",
              "size": 10,
              "solidity": 0.2
             }
            },
            "type": "barpolar"
           }
          ],
          "carpet": [
           {
            "aaxis": {
             "endlinecolor": "#2a3f5f",
             "gridcolor": "#C8D4E3",
             "linecolor": "#C8D4E3",
             "minorgridcolor": "#C8D4E3",
             "startlinecolor": "#2a3f5f"
            },
            "baxis": {
             "endlinecolor": "#2a3f5f",
             "gridcolor": "#C8D4E3",
             "linecolor": "#C8D4E3",
             "minorgridcolor": "#C8D4E3",
             "startlinecolor": "#2a3f5f"
            },
            "type": "carpet"
           }
          ],
          "choropleth": [
           {
            "colorbar": {
             "outlinewidth": 0,
             "ticks": ""
            },
            "type": "choropleth"
           }
          ],
          "contour": [
           {
            "colorbar": {
             "outlinewidth": 0,
             "ticks": ""
            },
            "colorscale": [
             [
              0,
              "#0d0887"
             ],
             [
              0.1111111111111111,
              "#46039f"
             ],
             [
              0.2222222222222222,
              "#7201a8"
             ],
             [
              0.3333333333333333,
              "#9c179e"
             ],
             [
              0.4444444444444444,
              "#bd3786"
             ],
             [
              0.5555555555555556,
              "#d8576b"
             ],
             [
              0.6666666666666666,
              "#ed7953"
             ],
             [
              0.7777777777777778,
              "#fb9f3a"
             ],
             [
              0.8888888888888888,
              "#fdca26"
             ],
             [
              1,
              "#f0f921"
             ]
            ],
            "type": "contour"
           }
          ],
          "contourcarpet": [
           {
            "colorbar": {
             "outlinewidth": 0,
             "ticks": ""
            },
            "type": "contourcarpet"
           }
          ],
          "heatmap": [
           {
            "colorbar": {
             "outlinewidth": 0,
             "ticks": ""
            },
            "colorscale": [
             [
              0,
              "#0d0887"
             ],
             [
              0.1111111111111111,
              "#46039f"
             ],
             [
              0.2222222222222222,
              "#7201a8"
             ],
             [
              0.3333333333333333,
              "#9c179e"
             ],
             [
              0.4444444444444444,
              "#bd3786"
             ],
             [
              0.5555555555555556,
              "#d8576b"
             ],
             [
              0.6666666666666666,
              "#ed7953"
             ],
             [
              0.7777777777777778,
              "#fb9f3a"
             ],
             [
              0.8888888888888888,
              "#fdca26"
             ],
             [
              1,
              "#f0f921"
             ]
            ],
            "type": "heatmap"
           }
          ],
          "histogram": [
           {
            "marker": {
             "pattern": {
              "fillmode": "overlay",
              "size": 10,
              "solidity": 0.2
             }
            },
            "type": "histogram"
           }
          ],
          "histogram2d": [
           {
            "colorbar": {
             "outlinewidth": 0,
             "ticks": ""
            },
            "colorscale": [
             [
              0,
              "#0d0887"
             ],
             [
              0.1111111111111111,
              "#46039f"
             ],
             [
              0.2222222222222222,
              "#7201a8"
             ],
             [
              0.3333333333333333,
              "#9c179e"
             ],
             [
              0.4444444444444444,
              "#bd3786"
             ],
             [
              0.5555555555555556,
              "#d8576b"
             ],
             [
              0.6666666666666666,
              "#ed7953"
             ],
             [
              0.7777777777777778,
              "#fb9f3a"
             ],
             [
              0.8888888888888888,
              "#fdca26"
             ],
             [
              1,
              "#f0f921"
             ]
            ],
            "type": "histogram2d"
           }
          ],
          "histogram2dcontour": [
           {
            "colorbar": {
             "outlinewidth": 0,
             "ticks": ""
            },
            "colorscale": [
             [
              0,
              "#0d0887"
             ],
             [
              0.1111111111111111,
              "#46039f"
             ],
             [
              0.2222222222222222,
              "#7201a8"
             ],
             [
              0.3333333333333333,
              "#9c179e"
             ],
             [
              0.4444444444444444,
              "#bd3786"
             ],
             [
              0.5555555555555556,
              "#d8576b"
             ],
             [
              0.6666666666666666,
              "#ed7953"
             ],
             [
              0.7777777777777778,
              "#fb9f3a"
             ],
             [
              0.8888888888888888,
              "#fdca26"
             ],
             [
              1,
              "#f0f921"
             ]
            ],
            "type": "histogram2dcontour"
           }
          ],
          "mesh3d": [
           {
            "colorbar": {
             "outlinewidth": 0,
             "ticks": ""
            },
            "type": "mesh3d"
           }
          ],
          "parcoords": [
           {
            "line": {
             "colorbar": {
              "outlinewidth": 0,
              "ticks": ""
             }
            },
            "type": "parcoords"
           }
          ],
          "pie": [
           {
            "automargin": true,
            "type": "pie"
           }
          ],
          "scatter": [
           {
            "fillpattern": {
             "fillmode": "overlay",
             "size": 10,
             "solidity": 0.2
            },
            "type": "scatter"
           }
          ],
          "scatter3d": [
           {
            "line": {
             "colorbar": {
              "outlinewidth": 0,
              "ticks": ""
             }
            },
            "marker": {
             "colorbar": {
              "outlinewidth": 0,
              "ticks": ""
             }
            },
            "type": "scatter3d"
           }
          ],
          "scattercarpet": [
           {
            "marker": {
             "colorbar": {
              "outlinewidth": 0,
              "ticks": ""
             }
            },
            "type": "scattercarpet"
           }
          ],
          "scattergeo": [
           {
            "marker": {
             "colorbar": {
              "outlinewidth": 0,
              "ticks": ""
             }
            },
            "type": "scattergeo"
           }
          ],
          "scattergl": [
           {
            "marker": {
             "colorbar": {
              "outlinewidth": 0,
              "ticks": ""
             }
            },
            "type": "scattergl"
           }
          ],
          "scattermap": [
           {
            "marker": {
             "colorbar": {
              "outlinewidth": 0,
              "ticks": ""
             }
            },
            "type": "scattermap"
           }
          ],
          "scattermapbox": [
           {
            "marker": {
             "colorbar": {
              "outlinewidth": 0,
              "ticks": ""
             }
            },
            "type": "scattermapbox"
           }
          ],
          "scatterpolar": [
           {
            "marker": {
             "colorbar": {
              "outlinewidth": 0,
              "ticks": ""
             }
            },
            "type": "scatterpolar"
           }
          ],
          "scatterpolargl": [
           {
            "marker": {
             "colorbar": {
              "outlinewidth": 0,
              "ticks": ""
             }
            },
            "type": "scatterpolargl"
           }
          ],
          "scatterternary": [
           {
            "marker": {
             "colorbar": {
              "outlinewidth": 0,
              "ticks": ""
             }
            },
            "type": "scatterternary"
           }
          ],
          "surface": [
           {
            "colorbar": {
             "outlinewidth": 0,
             "ticks": ""
            },
            "colorscale": [
             [
              0,
              "#0d0887"
             ],
             [
              0.1111111111111111,
              "#46039f"
             ],
             [
              0.2222222222222222,
              "#7201a8"
             ],
             [
              0.3333333333333333,
              "#9c179e"
             ],
             [
              0.4444444444444444,
              "#bd3786"
             ],
             [
              0.5555555555555556,
              "#d8576b"
             ],
             [
              0.6666666666666666,
              "#ed7953"
             ],
             [
              0.7777777777777778,
              "#fb9f3a"
             ],
             [
              0.8888888888888888,
              "#fdca26"
             ],
             [
              1,
              "#f0f921"
             ]
            ],
            "type": "surface"
           }
          ],
          "table": [
           {
            "cells": {
             "fill": {
              "color": "#EBF0F8"
             },
             "line": {
              "color": "white"
             }
            },
            "header": {
             "fill": {
              "color": "#C8D4E3"
             },
             "line": {
              "color": "white"
             }
            },
            "type": "table"
           }
          ]
         },
         "layout": {
          "annotationdefaults": {
           "arrowcolor": "#2a3f5f",
           "arrowhead": 0,
           "arrowwidth": 1
          },
          "autotypenumbers": "strict",
          "coloraxis": {
           "colorbar": {
            "outlinewidth": 0,
            "ticks": ""
           }
          },
          "colorscale": {
           "diverging": [
            [
             0,
             "#8e0152"
            ],
            [
             0.1,
             "#c51b7d"
            ],
            [
             0.2,
             "#de77ae"
            ],
            [
             0.3,
             "#f1b6da"
            ],
            [
             0.4,
             "#fde0ef"
            ],
            [
             0.5,
             "#f7f7f7"
            ],
            [
             0.6,
             "#e6f5d0"
            ],
            [
             0.7,
             "#b8e186"
            ],
            [
             0.8,
             "#7fbc41"
            ],
            [
             0.9,
             "#4d9221"
            ],
            [
             1,
             "#276419"
            ]
           ],
           "sequential": [
            [
             0,
             "#0d0887"
            ],
            [
             0.1111111111111111,
             "#46039f"
            ],
            [
             0.2222222222222222,
             "#7201a8"
            ],
            [
             0.3333333333333333,
             "#9c179e"
            ],
            [
             0.4444444444444444,
             "#bd3786"
            ],
            [
             0.5555555555555556,
             "#d8576b"
            ],
            [
             0.6666666666666666,
             "#ed7953"
            ],
            [
             0.7777777777777778,
             "#fb9f3a"
            ],
            [
             0.8888888888888888,
             "#fdca26"
            ],
            [
             1,
             "#f0f921"
            ]
           ],
           "sequentialminus": [
            [
             0,
             "#0d0887"
            ],
            [
             0.1111111111111111,
             "#46039f"
            ],
            [
             0.2222222222222222,
             "#7201a8"
            ],
            [
             0.3333333333333333,
             "#9c179e"
            ],
            [
             0.4444444444444444,
             "#bd3786"
            ],
            [
             0.5555555555555556,
             "#d8576b"
            ],
            [
             0.6666666666666666,
             "#ed7953"
            ],
            [
             0.7777777777777778,
             "#fb9f3a"
            ],
            [
             0.8888888888888888,
             "#fdca26"
            ],
            [
             1,
             "#f0f921"
            ]
           ]
          },
          "colorway": [
           "#636efa",
           "#EF553B",
           "#00cc96",
           "#ab63fa",
           "#FFA15A",
           "#19d3f3",
           "#FF6692",
           "#B6E880",
           "#FF97FF",
           "#FECB52"
          ],
          "font": {
           "color": "#2a3f5f"
          },
          "geo": {
           "bgcolor": "white",
           "lakecolor": "white",
           "landcolor": "white",
           "showlakes": true,
           "showland": true,
           "subunitcolor": "#C8D4E3"
          },
          "hoverlabel": {
           "align": "left"
          },
          "hovermode": "closest",
          "mapbox": {
           "style": "light"
          },
          "paper_bgcolor": "white",
          "plot_bgcolor": "white",
          "polar": {
           "angularaxis": {
            "gridcolor": "#EBF0F8",
            "linecolor": "#EBF0F8",
            "ticks": ""
           },
           "bgcolor": "white",
           "radialaxis": {
            "gridcolor": "#EBF0F8",
            "linecolor": "#EBF0F8",
            "ticks": ""
           }
          },
          "scene": {
           "xaxis": {
            "backgroundcolor": "white",
            "gridcolor": "#DFE8F3",
            "gridwidth": 2,
            "linecolor": "#EBF0F8",
            "showbackground": true,
            "ticks": "",
            "zerolinecolor": "#EBF0F8"
           },
           "yaxis": {
            "backgroundcolor": "white",
            "gridcolor": "#DFE8F3",
            "gridwidth": 2,
            "linecolor": "#EBF0F8",
            "showbackground": true,
            "ticks": "",
            "zerolinecolor": "#EBF0F8"
           },
           "zaxis": {
            "backgroundcolor": "white",
            "gridcolor": "#DFE8F3",
            "gridwidth": 2,
            "linecolor": "#EBF0F8",
            "showbackground": true,
            "ticks": "",
            "zerolinecolor": "#EBF0F8"
           }
          },
          "shapedefaults": {
           "line": {
            "color": "#2a3f5f"
           }
          },
          "ternary": {
           "aaxis": {
            "gridcolor": "#DFE8F3",
            "linecolor": "#A2B1C6",
            "ticks": ""
           },
           "baxis": {
            "gridcolor": "#DFE8F3",
            "linecolor": "#A2B1C6",
            "ticks": ""
           },
           "bgcolor": "white",
           "caxis": {
            "gridcolor": "#DFE8F3",
            "linecolor": "#A2B1C6",
            "ticks": ""
           }
          },
          "title": {
           "x": 0.05
          },
          "xaxis": {
           "automargin": true,
           "gridcolor": "#EBF0F8",
           "linecolor": "#EBF0F8",
           "ticks": "",
           "title": {
            "standoff": 15
           },
           "zerolinecolor": "#EBF0F8",
           "zerolinewidth": 2
          },
          "yaxis": {
           "automargin": true,
           "gridcolor": "#EBF0F8",
           "linecolor": "#EBF0F8",
           "ticks": "",
           "title": {
            "standoff": 15
           },
           "zerolinecolor": "#EBF0F8",
           "zerolinewidth": 2
          }
         }
        },
        "title": {
         "text": "Receita por Grupo Etário e Gênero"
        },
        "xaxis": {
         "anchor": "y",
         "categoryorder": "total descending",
         "domain": [
          0,
          1
         ],
         "title": {
          "text": "Age_Group"
         }
        },
        "yaxis": {
         "anchor": "x",
         "domain": [
          0,
          1
         ],
         "title": {
          "text": "Revenue"
         }
        }
       }
      }
     },
     "metadata": {},
     "output_type": "display_data"
    }
   ],
   "source": [
    "#Vendas por faixa etária  e gênero\n",
    "sales_by_demo = df.groupby(['Age_Group', 'Customer_Gender']).agg({\n",
    "    'Revenue': 'sum',\n",
    "    'Profit': 'sum',\n",
    "    'Customer_Age': 'count'\n",
    "}).rename(columns={'Customer_Age': 'Count'}).reset_index()\n",
    "\n",
    "\n",
    "#Criando o Gráfico de barras agrupadas\n",
    "fig = px.bar(sales_by_demo, x='Age_Group', y='Revenue',\n",
    "             color='Customer_Gender', barmode='group',\n",
    "             title='Receita por Grupo Etário e Gênero',\n",
    "             hover_data=['Profit', 'Count'],\n",
    "             template='plotly_white')\n",
    "fig.update_layout(xaxis={'categoryorder':'total descending'})\n",
    "fig.show()\n",
    "\n"
   ]
  },
  {
   "cell_type": "code",
   "execution_count": null,
   "id": "e28ed474",
   "metadata": {},
   "outputs": [],
   "source": []
  }
 ],
 "metadata": {
  "kernelspec": {
   "display_name": "Python 3",
   "language": "python",
   "name": "python3"
  },
  "language_info": {
   "codemirror_mode": {
    "name": "ipython",
    "version": 3
   },
   "file_extension": ".py",
   "mimetype": "text/x-python",
   "name": "python",
   "nbconvert_exporter": "python",
   "pygments_lexer": "ipython3",
   "version": "3.13.2"
  }
 },
 "nbformat": 4,
 "nbformat_minor": 5
}
